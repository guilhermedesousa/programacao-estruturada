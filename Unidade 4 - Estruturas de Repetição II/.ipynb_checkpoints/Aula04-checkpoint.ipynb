{
 "cells": [
  {
   "cell_type": "markdown",
   "metadata": {},
   "source": [
    "<div id=\"homesweethome\"></div>\n",
    "\n",
    "<div style=\"width: 100%; text-align: center; color: white; background-color: #222; font-size: 3em; font-weight: 700; padding: .5em .5em .6em .5em; line-height: 1.4em;\">Programação em Python para Iniciantes</div>\n",
    "\n",
    "<br>\n",
    "\n",
    "<div style=\"width: 100%; text-align: center; color: white; background-color: #555; font-size: 2.2em; font-weight: 700; padding: .5em .5em .6em .5em; line-height: 1em;\">Estruturas de repetição II</div>\n",
    "\n",
    "<br>\n",
    "\n",
    "Nesta unidade, você vai continuar aprendendendo como fazer para executar um trecho do seu programa várias vezes automaticamente.\n",
    "\n",
    "Isso é muito útil quando o problema que estamos tentando resolver envolve tarefas repetitivas!\n",
    "\n",
    "<span style=\"color: red;\">Lembre-se: Execute a última célula para melhorar a aparência deste <i>notebook</i>.</span>"
   ]
  },
  {
   "cell_type": "markdown",
   "metadata": {},
   "source": [
    "<hr>\n",
    "\n",
    "Re-lembrando: caso você queira imprimir os números de **1** a **5**, você poderia fazer o seguinte:"
   ]
  },
  {
   "cell_type": "code",
   "execution_count": 1,
   "metadata": {},
   "outputs": [
    {
     "name": "stdout",
     "output_type": "stream",
     "text": [
      "1\n",
      "2\n",
      "3\n",
      "4\n",
      "5\n"
     ]
    }
   ],
   "source": [
    "print(1)\n",
    "print(2)\n",
    "print(3)\n",
    "print(4)\n",
    "print(5)"
   ]
  },
  {
   "cell_type": "markdown",
   "metadata": {},
   "source": [
    "Também podemos usar listas e o comando **`for`**. Desta forma, fica muito mais fácil mudar o programa caso você quisesse imprimir os números de **1** até **100**"
   ]
  },
  {
   "cell_type": "code",
   "execution_count": 3,
   "metadata": {},
   "outputs": [
    {
     "name": "stdout",
     "output_type": "stream",
     "text": [
      "1\n",
      "2\n",
      "3\n",
      "4\n",
      "5\n"
     ]
    }
   ],
   "source": [
    "for n in [1, 2, 3, 4, 5]:\n",
    "    print(n)"
   ]
  },
  {
   "cell_type": "markdown",
   "metadata": {},
   "source": [
    "Também podemos usar a função range() em lugar de listas. Desta forma, é possível adaptar o programa caso você quisesse ler um número **M** e imprimir os números de **1** até **M**"
   ]
  },
  {
   "cell_type": "code",
   "execution_count": 4,
   "metadata": {},
   "outputs": [
    {
     "name": "stdout",
     "output_type": "stream",
     "text": [
      "Digite o valor de M: 2\n",
      "1\n",
      "2\n"
     ]
    }
   ],
   "source": [
    "M = int(input(\"Digite o valor de M: \"))\n",
    "for n in range(1, M + 1):\n",
    "    print(n)"
   ]
  },
  {
   "cell_type": "markdown",
   "metadata": {},
   "source": [
    "Em todos esses casos é possível calcular o número de vezes que o comando **`print(n)`** será executado, antes mesmo de executar a primeira repetição.\n",
    "\n",
    "No entanto, existem situações em que precisamos repetir uma tarefa várias vezes porém não é possível calcular a priori o número de repetições.\n",
    "\n",
    "Por exemplo, suponha você deseja ler uma sequência de números inteiros que termina em zero e mostrar o dobro cada número. Neste caso, não é possível saber quantos números serão lidos até acharmos o zero.\n",
    "\n",
    "Nesta aula vamos aprender um comando da linguagem Python que permite resolver esse problema, o comando **`while`**.\n",
    "\n",
    "<hr>\n"
   ]
  },
  {
   "cell_type": "markdown",
   "metadata": {},
   "source": [
    "# O comando **`while`**\n",
    "\n",
    "O comando **`while`** tem a seguinte estrutura:\n",
    "\n",
    "\n",
    "    while condição:\n",
    "        código indentado\n",
    "        código indentado\n",
    "        ...\n",
    "        código indentado\n",
    "    código após o while\n",
    "\n",
    "\n",
    "Observe que, de forma similar ao comando **`if`**, o **`while`** tem uma condição e um bloco de código associado que deve vir _indentado_. \n",
    "\n",
    "O comando **`while`** executa o bloco de código correspondente enquanto a condição dada for verdadeira. Quando a condição for falsa o fluxo de programa muda e passa a executar bloco depois o while (não indentado).\n",
    "<hr>\n",
    "\n",
    "Veja um fluxograma que explica o funcionamento do while:\n",
    "\n",
    "<img src=\"http://ufabc.space/CursoPython/img/fluxowhile.png\" />\n",
    "\n",
    "<hr>\n",
    "Veja a seguir como você pode fazer para imprimir os números de 1 a 5 com o comando **`while`**:"
   ]
  },
  {
   "cell_type": "code",
   "execution_count": 5,
   "metadata": {},
   "outputs": [
    {
     "name": "stdout",
     "output_type": "stream",
     "text": [
      "1\n",
      "2\n",
      "3\n",
      "4\n",
      "5\n"
     ]
    }
   ],
   "source": [
    "n = 1               \n",
    "while n <= 5:       \n",
    "    print(n)       \n",
    "    n = n + 1      "
   ]
  },
  {
   "cell_type": "markdown",
   "metadata": {},
   "source": [
    "No exemplo acima, a condição é `n <= 5` e o bloco de código é\n",
    "\n",
    "    print(n)       \n",
    "    n = n + 1      \n",
    "\n",
    "O que exatamente o nosso código está fazendo?\n",
    "\n",
    "Em \"português\" poderíamos escrever o seguinte:\n",
    "\n",
    "    # começamos com n = 1\n",
    "    # enquanto n não ultrapassou 5, faça:\n",
    "    #     imprima n\n",
    "    #     aumente em 1 o valor de n\n",
    "\n",
    "Execute o código a seguir para ver uma animação:"
   ]
  },
  {
   "cell_type": "code",
   "execution_count": 6,
   "metadata": {
    "scrolled": true
   },
   "outputs": [
    {
     "name": "stderr",
     "output_type": "stream",
     "text": [
      "C:\\Users\\ACER\\anaconda3\\lib\\site-packages\\IPython\\core\\display.py:717: UserWarning: Consider using IPython.display.IFrame instead\n",
      "  warnings.warn(\"Consider using IPython.display.IFrame instead\")\n"
     ]
    },
    {
     "data": {
      "text/html": [
       "<iframe width=\"420\" height=\"315\" src=\"https://www.youtube.com/embed/PDQ0Mi-iT1A\"></iframe>"
      ],
      "text/plain": [
       "<IPython.core.display.HTML object>"
      ]
     },
     "execution_count": 6,
     "metadata": {},
     "output_type": "execute_result"
    }
   ],
   "source": [
    "# Código para rodar vídeo\n",
    "from IPython.display import HTML\n",
    "HTML('<iframe width=\"420\" height=\"315\" src=\"https://www.youtube.com/embed/PDQ0Mi-iT1A\"></iframe>')"
   ]
  },
  {
   "cell_type": "markdown",
   "metadata": {},
   "source": [
    "<hr> \n",
    "\n",
    "Outro modo de exibir os números de 1 a 5 é o seguinte:"
   ]
  },
  {
   "cell_type": "code",
   "execution_count": 7,
   "metadata": {},
   "outputs": [
    {
     "name": "stdout",
     "output_type": "stream",
     "text": [
      "1\n",
      "2\n",
      "3\n",
      "4\n",
      "5\n"
     ]
    }
   ],
   "source": [
    "n = 5\n",
    "while n > 0:\n",
    "    print(6 - n)\n",
    "    n = n - 1"
   ]
  },
  {
   "cell_type": "markdown",
   "metadata": {},
   "source": [
    "<hr> \n",
    "\n",
    "Agora, vamos resolver o exemplo da introdução, i.e. você deseja ler uma sequência de números inteiros que termina em zero e mostrar o dobro cada número. Veja abaixo a solução usando um while. Note que o primeiro número da sequência pode ser zero e nesse caso o corpo do while nunca é executado. No final do corpo, precisamos ler o próximo número antes de testar novamente a condição.\n"
   ]
  },
  {
   "cell_type": "code",
   "execution_count": 8,
   "metadata": {},
   "outputs": [
    {
     "name": "stdout",
     "output_type": "stream",
     "text": [
      "Digite o valor do número: 2\n",
      "4\n",
      "Digite o valor do número: 0\n"
     ]
    }
   ],
   "source": [
    "n = int(input(\"Digite o valor do número: \"))\n",
    "while n != 0:       \n",
    "    print(2*n)       \n",
    "    n = int(input(\"Digite o valor do número: \"))    "
   ]
  },
  {
   "cell_type": "markdown",
   "metadata": {},
   "source": [
    "### Exercício <span class=\"exec\"></span>: Par ou ímpar? II\n",
    "\n",
    "Faça você mesmo: Modifique o programa anterior de modo que ele determine se o número lido é par ou ímpar. Além disso, o programa deve imprimir no final quantos números pares foram lidos (sem contar o zero).\n",
    "\n",
    "**Dica:** use o comando **`if`** dentro do bloco de código do **`while`**."
   ]
  },
  {
   "cell_type": "code",
   "execution_count": 9,
   "metadata": {},
   "outputs": [
    {
     "name": "stdout",
     "output_type": "stream",
     "text": [
      "Digite o valor do número: 2\n",
      "é par\n",
      "Digite o valor do número: 3\n",
      "é ímpar\n",
      "Digite o valor do número: 4\n",
      "é par\n",
      "Digite o valor do número: 0\n",
      "foram lidos 2 números pares.\n"
     ]
    }
   ],
   "source": [
    "n = int(input(\"Digite o valor do número: \"))\n",
    "qtdPar = 0\n",
    "\n",
    "while n != 0:\n",
    "    if (n % 2 == 0):\n",
    "        print('é par')\n",
    "        qtdPar += 1\n",
    "    else:\n",
    "        print('é ímpar')\n",
    "        \n",
    "    n = int(input(\"Digite o valor do número: \"))\n",
    "\n",
    "print('foram lidos ' + str(qtdPar) + ' números pares.')"
   ]
  },
  {
   "cell_type": "markdown",
   "metadata": {},
   "source": [
    "### Exercício <span class=\"exec\"></span>: Calculadora\n",
    "\n",
    "Modifique o programa abaixo para simular uma calculadora básica com as operações de soma, subtração, multiplicação e divisão. Seu programa deve mostrar um mostrar um menú com essas opções e a opção de sair. Faça a validação da opção lida"
   ]
  },
  {
   "cell_type": "code",
   "execution_count": 14,
   "metadata": {},
   "outputs": [
    {
     "name": "stdout",
     "output_type": "stream",
     "text": [
      "Menu\n",
      "1- Soma\n",
      "2- Subtração\n",
      "3- Multiplicação\n",
      "4- Divisão\n",
      "5- Terminar o programa\n",
      "Digite a opção desejada: 5\n"
     ]
    }
   ],
   "source": [
    "opcao = 0\n",
    "\n",
    "while opcao != 5:\n",
    "    print(\"Menu\")\n",
    "    print(\"1- Soma\")\n",
    "    print(\"2- Subtração\")\n",
    "    print(\"3- Multiplicação\")\n",
    "    print(\"4- Divisão\")\n",
    "    print(\"5- Terminar o programa\")\n",
    "\n",
    "    opcao = int(input(\"Digite a opção desejada: \"))\n",
    "    \n",
    "    validOptions = [1, 2, 3, 4, 5]\n",
    "    \n",
    "    if (opcao not in validOptions):\n",
    "        print('Por favor, informe uma opção válida!')\n",
    "    elif (opcao != 5):\n",
    "        number1 = float(input('Qual o primeiro operando? '))\n",
    "        number2 = float(input('Qual o primeiro operando? '))\n",
    "        \n",
    "        if (opcao == 1):\n",
    "            print(str(number1) + ' + ' + str(number2) + ' = ' + str(number1 + number2))\n",
    "        elif (opcao == 2):\n",
    "            print(str(number1) + ' - ' + str(number2) + ' = ' + str(number1 - number2))\n",
    "        elif (opcao == 3):\n",
    "            print(str(number1) + ' x ' + str(number2) + ' = ' + str(number1 * number2))\n",
    "        elif (opcao == 4):\n",
    "            print(str(number1) + ' / ' + str(number2) + ' = ' + str(number1 / number2))"
   ]
  },
  {
   "cell_type": "markdown",
   "metadata": {},
   "source": [
    "## Sobre a condição do while\n",
    "\n",
    "A condição do  **`while`** tem as mesmas características da condição do comando **`if`**; portanto, você pode escrever condições simples ou compostas o até usar uma única variável ou constante booleana.\n",
    "\n",
    "No entanto, sempre tome muito cuidado quando você for escrever a condição do comando **`while`**. Note que, se acontecer da condição ser sempre verdadeira, seu programa irá **_entrar em loop_**, ou seja, ele ficará rodando \"para sempre\" e irá travar o kernel do Python.\n",
    "\n",
    "Se a condição envolve variáveis, elas devem ser sempre inicializadas antes do while e autualizadas no corpo.\n",
    "\n",
    "Veja o exemplo abaixo. O código mostra \"SENHA CORRETA\" se o usuário digita 1234 e \"SENHA INCORRETA\" se o usuário digita qualquer outro número. \n",
    "\n",
    "Ele fica rodando até o usuário acertar a senha. Neste caso, é usada uma variável booleana para controlar se o corpo do laço deve ser novamente executado ou não.\n"
   ]
  },
  {
   "cell_type": "code",
   "execution_count": 1,
   "metadata": {},
   "outputs": [
    {
     "name": "stdout",
     "output_type": "stream",
     "text": [
      "Digite a sua senha numérica: 123\n",
      "SENHA INCORRETA\n",
      "Digite a sua senha numérica: 1234\n",
      "SENHA CORRETA\n"
     ]
    }
   ],
   "source": [
    "rodar = True\n",
    "while (rodar):\n",
    "    senha = int(input(\"Digite a sua senha numérica: \"))\n",
    "    if senha == 1234:\n",
    "        rodar = False \n",
    "    else: \n",
    "        print(\"SENHA INCORRETA\")\n",
    "print(\"SENHA CORRETA\")"
   ]
  },
  {
   "cell_type": "markdown",
   "metadata": {},
   "source": [
    "Note que, neste caso, o mesmo comportamento pode ser replicado colocando-se a linha `print(\"SENHA CORRETA\")`  dentro do bloco de código do **`while`** como feito abaixo."
   ]
  },
  {
   "cell_type": "code",
   "execution_count": 2,
   "metadata": {},
   "outputs": [
    {
     "name": "stdout",
     "output_type": "stream",
     "text": [
      "Digite a sua senha numérica: 12343\n",
      "SENHA INCORRETA\n",
      "Digite a sua senha numérica: 1234\n",
      "SENHA CORRETA\n"
     ]
    }
   ],
   "source": [
    "rodar = True\n",
    "while (rodar):\n",
    "    senha = int(input(\"Digite a sua senha numérica: \"))\n",
    "    if senha == 1234:\n",
    "        print(\"SENHA CORRETA\")\n",
    "        rodar = False \n",
    "    else: \n",
    "        print(\"SENHA INCORRETA\")"
   ]
  },
  {
   "cell_type": "markdown",
   "metadata": {},
   "source": [
    "### Exercício <span class=\"exec\"></span>: Senha limitada\n",
    "\n",
    "Modifique o código acima de modo que ele permita no máximo 3 tentativas para acertar a senha e, se o usuário errar três vezes, o programa termina e mostra uma notificção ao usuário.\n",
    "\n",
    "**Dica:** use uma variável para contar quantas tentativas foram feitas.\n"
   ]
  },
  {
   "cell_type": "code",
   "execution_count": null,
   "metadata": {
    "collapsed": true
   },
   "outputs": [],
   "source": [
    "rodar = True\n",
    "tentativas = 1\n",
    "\n",
    "while (rodar and tentativas <= 3):\n",
    "    senha = int(input(\"Digite a sua senha numérica: \"))\n",
    "    if senha == 1234:\n",
    "        print(\"SENHA CORRETA\")\n",
    "        rodar = False\n",
    "    else:\n",
    "        tentativas += 1\n",
    "        print(\"SENHA INCORRETA\")\n",
    "\n",
    "if (tentativas > 3):\n",
    "    print('Você ultrapassou o limite de tentativas :(')"
   ]
  },
  {
   "cell_type": "markdown",
   "metadata": {},
   "source": [
    "### Exercício <span class=\"exec\"></span>: Jogo de par ou ímpar\n",
    "\n",
    "\n",
    "Alice e Bob estão jogando par ou ímpar. Alice sempre aposta no par e Bob no ímpar. São 7 rodadas. Vence quem ganhar o maior número de rodadas. Isto é, vence quem ganhar 4 rodadas primeiro. Se um deles \n",
    "acumular 4 vitórias em menos de 7 rodadas, eles não terminam de jogar as rodadas que restam, pois já se sabe quem é o vencedor. Em cada rodada, seu programa deve pedir para Alice e Bob digitarem os números que querem jogar. No fim, seu programa deve mostrar quem venceu.\n",
    "\n"
   ]
  },
  {
   "cell_type": "code",
   "execution_count": null,
   "metadata": {
    "collapsed": true
   },
   "outputs": [],
   "source": [
    "rodada = 1\n",
    "vitBob = 0\n",
    "vitAlice = 0\n",
    "\n",
    "while (rodada <= 7 and vitBob < 4 and vitAlice < 4):\n",
    "    jogBob = int(input('Qual sua jogada, Bob? '))\n",
    "    jogAlice = int(input('Qual sua jogada, Alice? '))\n",
    "    sumJog = jogBob + jogAlice\n",
    "\n",
    "    if (sumJog % 2 == 0):\n",
    "        vitAlice += 1\n",
    "    else:\n",
    "        vitBob += 1\n",
    "\n",
    "    rodada += 1\n",
    "\n",
    "if (vitBob == 4):\n",
    "    print('Parabéns, Bob!')\n",
    "else:\n",
    "    print('Parabéns, Alice!')"
   ]
  },
  {
   "cell_type": "markdown",
   "metadata": {},
   "source": [
    "# **`while`**   versus **`for`** \n",
    "\n",
    "\n",
    "Talvez você já reparou que o **`while`** pode usado no lugar do **`for`** quando sabemos a quantidade máxima de vezes que devemos rodar o código porém, esse número de vezes pode ser menor. \n",
    "\n",
    "Nesse caso, uma solução usando o **`while`** pode ser mais eficiente.\n",
    "\n",
    "Por exemplo, poderiamos determinar se um número é primo ou não usando o seguinte programa."
   ]
  },
  {
   "cell_type": "code",
   "execution_count": 3,
   "metadata": {},
   "outputs": [
    {
     "name": "stdout",
     "output_type": "stream",
     "text": [
      "Qual o número que deseja testar? 2\n",
      "Primo\n"
     ]
    }
   ],
   "source": [
    "n = int(input(\"Qual o número que deseja testar? \"))     # leitura da entrada\n",
    "\n",
    "qDivisores = 0                                          # inicialização das variáveis\n",
    "\n",
    "for i in range( 1, n+1 ):                               # processamento\n",
    "    if n % i == 0:\n",
    "        qDivisores = qDivisores + 1\n",
    "        \n",
    "if qDivisores == 2:                                     # saida\n",
    "    print(\"Primo\")\n",
    "else:\n",
    "    print(\"Não é primo\")"
   ]
  },
  {
   "cell_type": "markdown",
   "metadata": {},
   "source": [
    "No entanto, para saber que um número $n$ não é primo basta achar **um único divisor** diferente de 1 e o próprio $n$. Esses divisores estão na faixa $2..\\sqrt{n}$. \n",
    "\n",
    "Veja abaixo, um programa que é mais eficiente do que o anterior.\n",
    "\n",
    "Confira a eficiência de ambos os código testando para 1000000000. Interrumpa o kernel se precisar atravé do botão <img alt=\"stop\" style=\"display: inline;\" src=\"data:image/png;base64,iVBORw0KGgoAAAANSUhEUgAAACAAAAAZCAIAAADfbbvGAAAAA3NCSVQICAjb4U/gAAAAGXRFWHRTb2Z0d2FyZQBnbm9tZS1zY3JlZW5zaG907wO/PgAAAH9JREFUSIljOHPmzH+agbVr1zIx0BiMWkAQsOCT/Pns5q23v/DqZ5NUUxdhJ9OCB8tLoqfcwms+A4Nx5Y6ZwSK45fEG0eefBEwnAgz9SB61YNSCIW4BmzAvGyH9bDw8+Eoi/GWRVNSCY1GEbCAEhnccjFrAwMAASUVnz56lnQUAuo1xSm7pazkAAAAASUVORK5CYII=\" />."
   ]
  },
  {
   "cell_type": "code",
   "execution_count": 4,
   "metadata": {},
   "outputs": [
    {
     "name": "stdout",
     "output_type": "stream",
     "text": [
      "Qual o número que deseja testar? 2\n",
      "Primo\n"
     ]
    }
   ],
   "source": [
    "n = int(input(\"Qual o número que deseja testar? \"))     # leitura da entrada\n",
    "\n",
    "maxDivisor = int(n**(1/2))                              # inicialização das variáveis\n",
    "qDivisores = 0\n",
    "i = 2\n",
    "\n",
    "while qDivisores == 0 and i <= maxDivisor:              # processamento\n",
    "    if n % i == 0:\n",
    "        qDivisores = 1                                  # Pode ser uma variável booleana\n",
    "    i = i + 1                                           # atualização da variável de controle do laço\n",
    "    \n",
    "if qDivisores == 0:                                     # saida\n",
    "    print(\"Primo\")\n",
    "else:\n",
    "    print(\"Não é primo\")"
   ]
  },
  {
   "cell_type": "markdown",
   "metadata": {},
   "source": [
    "# Os comandos  **`break`**  e **`else`** \n",
    "\n",
    "A grande vantagem do **`for`** é que não precisamos nós preocupar com a inicialização e com a atualização da variável do laço. Porém, como terminar um laço **`for`** antes do número máximo de repetições?\n",
    "\n",
    "A linguagem Python oferece a instrução **`break`** que permite terminar a execução do laço mais próximo no qual ela se encontra. Além disso, Python também permite colocar um **`else`** nos laços **`for`** e **`while`** após o corpo do laço. \n",
    "\n",
    "Neste caso, a estrutura do comando **`for`** é a seguinte:\n",
    "\n",
    "    for variável in lista/range:\n",
    "    # ----------------------------------------------------------------- corpo do for\n",
    "        código indentado\n",
    "        ...\n",
    "        código indentado\n",
    "    # ---------------------------------------------------------------- fim do corpo do for\n",
    "    else:      \n",
    "        código indentado\n",
    "        ...\n",
    "        código indentado\n",
    "    código após o for\n",
    "\n",
    "\n",
    "\n",
    "A estrutura do comando **`while-else`** é análoga. \n",
    "\n",
    "Em ambos casos, o bloco de código do **`else`** somente é executado uma única vez quando o laço terminou normalmente, isto sem ter executado um **`break`**.\n",
    "\n",
    "Obviamente, o uso do  **`else`** é desnecessário quando:\n",
    "\n",
    "* o corpo do laço não contem nenhuma instrução  **`break`**  pois o **`else`** sempre será executado ou\n",
    "* o laço sempre termina com um **`break`**  pois o **`else`** nunca será executado\n",
    "\n",
    "\n",
    "<hr>\n",
    "Veja abaixo mais uma variante eficiente do exemplo anterior."
   ]
  },
  {
   "cell_type": "code",
   "execution_count": 5,
   "metadata": {},
   "outputs": [
    {
     "name": "stdout",
     "output_type": "stream",
     "text": [
      "Qual o número que deseja testar? 2\n",
      "Primo\n"
     ]
    }
   ],
   "source": [
    "n = int(input(\"Qual o número que deseja testar? \"))                    # leitura da entrada\n",
    "\n",
    "for i in range( 2, int(n**(1/2))+1 ):                                  # processamento\n",
    "    \n",
    "    # ----------------------------------------------------------------- corpo do for\n",
    "    if n % i == 0:\n",
    "        print(n, \" não é primo pois é igual a \", i, \"*\", n // i)\n",
    "        break\n",
    "    # ---------------------------------------------------------------- fim do corpo do for\n",
    "    \n",
    "else:                                                                # Atenção: esse else é do for e não do if!\n",
    "    print(\"Primo\")                                                   # Somente imprime se o break não foi executado\n"
   ]
  },
  {
   "cell_type": "markdown",
   "metadata": {},
   "source": [
    "Note que a variável de controle do laço **`i`** é automaticamente inicializada no valor 2 antes da primeira repetição do corpo. Além disso, ela é automaticamente comparada com o valor final do **`range`** e, após a execução do corpo,  atualizada no seguinte elemento.\n",
    "\n",
    "Note-se também que o **`else`** do **`for`** somente é executado se o a condição **`n % i == 0`** é sempre false, isto é nenhum divisor foi encontrado.\n",
    "\n",
    "<hr>\n",
    "Veja também uma variante para o exercício da senha limitada"
   ]
  },
  {
   "cell_type": "code",
   "execution_count": 6,
   "metadata": {},
   "outputs": [
    {
     "name": "stdout",
     "output_type": "stream",
     "text": [
      "Digite a sua senha numérica: 123\n",
      "SENHA INCORRETA\n",
      "Digite a sua senha numérica: 123\n",
      "SENHA INCORRETA\n",
      "Digite a sua senha numérica: 123\n",
      "SENHA INCORRETA\n",
      "VOCÊ ERROU AS TRÊS TENTATIVAS\n"
     ]
    }
   ],
   "source": [
    "for i in [1, 2, 3]:\n",
    "    # ----------------------------------------------------------------  corpo do for\n",
    "    senha = int(input(\"Digite a sua senha numérica: \"))\n",
    "    if senha == 1234:\n",
    "        print(\"SENHA CORRETA\")\n",
    "        break\n",
    "    else: \n",
    "        print(\"SENHA INCORRETA\")\n",
    "    # ---------------------------------------------------------------- fim do corpo do for\n",
    "else: \n",
    "    print(\"VOCÊ ERROU AS TRÊS TENTATIVAS\")"
   ]
  },
  {
   "cell_type": "markdown",
   "metadata": {},
   "source": [
    "### Exercício <span class=\"exec\"></span>: senha limitada II\n",
    "\n",
    "Modifique o código abaixo **sem mudar a condição do `while`** para ter o mesmo comportamento do programa acima.\n",
    "\n",
    "\n",
    "**Dica:** use uma variável para contar quantas tentativas foram feitas. \n",
    "\n",
    "**Atenção:**  o **`while`** sempre vai terminar com um **`break`** pois a condição é sempre verdadeira."
   ]
  },
  {
   "cell_type": "code",
   "execution_count": null,
   "metadata": {
    "collapsed": true
   },
   "outputs": [],
   "source": [
    "qtdChances = 1\n",
    "\n",
    "while (True):\n",
    "    if qtdChances > 3:\n",
    "        break\n",
    "    else:\n",
    "        senha = int(input(\"Digite a sua senha numérica: \"))\n",
    "        if senha == 1234:\n",
    "            print(\"SENHA CORRETA\")\n",
    "            break\n",
    "        else:\n",
    "            qtdChances += 1\n",
    "            print(\"SENHA INCORRETA\")\n",
    "\n",
    "if (qtdChances > 3):\n",
    "    print(\"VOCÊ ERROU AS TRÊS TENTATIVAS\")"
   ]
  },
  {
   "cell_type": "markdown",
   "metadata": {},
   "source": [
    "### Exercício <span class=\"exec\"></span>: palavra com vogal\n",
    "\n",
    "Complete o programa abaixo para determinar se uma palavra determine contem ou não uma vogal. Caso afirmativo, o programa deve imprimir a primeira vogal da palavra."
   ]
  },
  {
   "cell_type": "code",
   "execution_count": null,
   "metadata": {
    "collapsed": true
   },
   "outputs": [],
   "source": [
    "palavra = input(\"Digite a palavra: \")\n",
    "\n",
    "tamanho = len(palavra)\n",
    "\n",
    "for i in range(0, tamanho):\n",
    "    if (palavra[i] in ['a', 'A', 'e', 'E', 'i', 'I', 'o', 'O', 'u', 'U']):\n",
    "        print(\"A palavra contem a vogal \", palavra[i])\n",
    "        break\n",
    "else:\n",
    "    print(\"A palavra não contem nenhuma vogal\")"
   ]
  },
  {
   "cell_type": "markdown",
   "metadata": {},
   "source": [
    "### Exercício <span class=\"exec\"></span>: palíndromos\n",
    "\n",
    "Escreva um programa eficiente para verificar se uma palavra é um palíndromo, i.e. poder ser lida da\n",
    "mesma forma tanto da direita para a esquerda como da\n",
    "esquerda para a direita. Exemplo: ”reviver”, ”mirim”, ”matam”, ”ovo”, ”osso”, ”rodador”\n",
    "\n",
    "**Dica:** Note que somente é preciso percorrer, no máximo, metade do tamanho da palavra\n"
   ]
  },
  {
   "cell_type": "code",
   "execution_count": null,
   "metadata": {},
   "outputs": [],
   "source": [
    "text = input(\"Insira algum texto: \")\n",
    "\n",
    "for i in range(len(text) // 2):\n",
    "    if (text[i] != text[len(text) - 1 - i]):\n",
    "        print('O texto ' + text + ' não é palíndromo')\n",
    "        break\n",
    "else:\n",
    "    print('O texto ' + text + ' é palíndromo')"
   ]
  },
  {
   "cell_type": "markdown",
   "metadata": {},
   "source": [
    "# Laços aninhados e consecutivos\n",
    "\n",
    "Para concluir, é importante mencionar que muitas situações precisam de vários laços aninhados ou consecutivos. No primeiro caso, tome cuidado com a indentação. Também perceba que o **`break`** vai terminar o laço mais interno no qual ele se encontra."
   ]
  },
  {
   "cell_type": "markdown",
   "metadata": {},
   "source": [
    "### Exercício <span class=\"exec\"></span>: todos os primos\n",
    "\n",
    "Escreva um programa que dado um número inteiro M, imprima todos os números primos menores ou iguais a M."
   ]
  },
  {
   "cell_type": "code",
   "execution_count": null,
   "metadata": {
    "collapsed": true
   },
   "outputs": [],
   "source": [
    "m = int(input(\"Informe um número inteiro: \"))\n",
    "\n",
    "for i in range(2, m + 1):\n",
    "    for j in range(2, i):\n",
    "        if (i % j == 0):\n",
    "            break\n",
    "    else:\n",
    "        print(i)"
   ]
  },
  {
   "cell_type": "markdown",
   "metadata": {},
   "source": [
    "### Exercício <span class=\"exec\"></span>: notas acima da média\n",
    "\n",
    "Escreva um programa que, dadas as notas (entre zero e dez) de uma turma, imprima a média das notas e determine quantos estudantes tiraram nota acima da média. A leitura termina com qualquer nota não válida.\n",
    "\n",
    "Por exemplo, seja a entrada 10, 8.4, 9, 4.5, 3, 0, 6, -1. A média é 5.8428571428571425 e há 4 notas acima dela.\n",
    "\n",
    "**Dica**. Use uma lista para armazenar as notas além de um contador e um somador.\n",
    "\n"
   ]
  },
  {
   "cell_type": "code",
   "execution_count": null,
   "metadata": {
    "collapsed": true
   },
   "outputs": [],
   "source": [
    "nota = 0\n",
    "listaNotas = []\n",
    "sumNotas = 0\n",
    "qtdNotas = 0\n",
    "\n",
    "while (0 <= nota <= 10):\n",
    "    nota = float(input(\"Informe uma nota: \"))\n",
    "    if (nota < 0 or nota > 10):\n",
    "        break\n",
    "    else:\n",
    "        sumNotas += nota\n",
    "        qtdNotas += 1\n",
    "        listaNotas.append(nota)\n",
    "\n",
    "media = sumNotas / qtdNotas\n",
    "acimaDaMedia = 0\n",
    "\n",
    "for i in listaNotas:\n",
    "    if i >= media:\n",
    "        acimaDaMedia += 1\n",
    "\n",
    "print('A média é', media, 'e há', acimaDaMedia, 'notas acima dela.')"
   ]
  },
  {
   "cell_type": "markdown",
   "metadata": {},
   "source": [
    "# Exercícios para casa\n",
    "\n",
    "Tente resolver o maior número de exercícios possível. Traga suas respostas na próxima aula para tirar dúvidas com os professores."
   ]
  },
  {
   "cell_type": "markdown",
   "metadata": {},
   "source": [
    "### Exercício <span class=\"exec\"></span>: pontos no plano\n",
    "\n",
    "Escreva um programa que repete a seguinte tarefa: pergunta por um ponto no plano &ndash; isto é, pergunta pelas cordenadas $(x,y)$ &ndash; e depois imprime o quadrante no qual ele se encontra ou diz se ele está sobre algum eixo. O programa termina quando o usuário entrar com o ponto $(0,0)$."
   ]
  },
  {
   "cell_type": "code",
   "execution_count": null,
   "metadata": {
    "collapsed": true
   },
   "outputs": [],
   "source": [
    "coordenadas = ''\n",
    "\n",
    "while coordenadas != '0,0':\n",
    "    coordenadas = input(\"Entre com as coordenadas na forma x,y: \")\n",
    "    arrayCoord = coordenadas.split(\",\")\n",
    "    x = int(arrayCoord[0])\n",
    "    y = int(arrayCoord[1])\n",
    "\n",
    "    if (x != 0 and y != 0):\n",
    "        if (x == 0):\n",
    "            msg = 'Você está sobre o eixo y.'\n",
    "        elif (y == 0):\n",
    "            msg = 'Você está sobre o eixo x.'\n",
    "        elif (x > 0):\n",
    "            if (y > 0):\n",
    "                msg = 'Você está no 1º quadrante.'\n",
    "            else:\n",
    "                msg = 'Você está no 4º quadrante.'\n",
    "        elif (x < 0):\n",
    "            if (y > 0):\n",
    "                msg = 'Você está no 2º quadrante.'\n",
    "            else:\n",
    "                msg = 'Você está no 3º quadrante.'\n",
    "\n",
    "        print(msg)"
   ]
  },
  {
   "cell_type": "markdown",
   "metadata": {},
   "source": [
    "### Exercício <span class=\"exec\"></span>: palíndromos II\n",
    "\n",
    "Escreva um programa para verificar se uma frase é um palíndromo. Exemplos: ”missa e assim”, ”roma me tem amor”, ”nos ligou\n",
    "o gilson”, ”luz azul”, ”ame o poema”, ”a sacada da casa”, ”a torre da derrota”. Note-se que nas frases, os espaços não são considerados."
   ]
  },
  {
   "cell_type": "code",
   "execution_count": null,
   "metadata": {
    "collapsed": true
   },
   "outputs": [],
   "source": [
    "phrase = input('Qual a frase? ')\n",
    "phraseWithoutSpace = phrase.replace(\" \", \"\")\n",
    "\n",
    "ehPalindromo = True\n",
    "phraseSize = len(phraseWithoutSpace)\n",
    "cont = 0\n",
    "\n",
    "while (cont < (phraseSize // 2)):\n",
    "    if phraseWithoutSpace[cont] != phraseWithoutSpace[phraseSize - 1 - cont]:\n",
    "        print('A frase não é um palíndromo!')\n",
    "        break\n",
    "    else:\n",
    "        cont += 1\n",
    "else:\n",
    "    print('A frase é um palíndromo!')"
   ]
  },
  {
   "cell_type": "markdown",
   "metadata": {},
   "source": [
    "### Exercício <span class=\"exec\"></span>: Anos bissextos\n",
    "\n",
    "Todo ano que for divisível por 4 é um ano bissexto, exceto pelos anos que são divisíveis por 100 mas não por 400. Por exemplo 1700 e 1800 não foram anos bissextos, mas 1600 e 2000 foram.\n",
    "\n",
    "Faça um programa que pede para o usuário digitar vários anos, e que decide se cada ano é bissexto ou não. A leitura termina num valor negativo."
   ]
  },
  {
   "cell_type": "code",
   "execution_count": 2,
   "metadata": {},
   "outputs": [
    {
     "name": "stdout",
     "output_type": "stream",
     "text": [
      "Informe os anos que quer analisar separados por ',': 1700,1800,-1,2000\n",
      "O ano 1700 não é bissexto\n",
      "O ano 1800 não é bissexto\n",
      "O ano -1 não é bissexto\n"
     ]
    }
   ],
   "source": [
    "anosInput = input(\"Informe os anos que quer analisar separados por ',': \")\n",
    "anos = anosInput.split(\",\")\n",
    "ano = int(anos[0])\n",
    "cont = 0\n",
    "\n",
    "while (ano > 0 and cont < len(anos)):\n",
    "    ano = int(anos[cont])\n",
    "\n",
    "    if (ano % 4 == 0):\n",
    "        if (ano % 100 == 0 and ano % 400 != 0):\n",
    "            print('O ano', ano, 'não é bissexto')\n",
    "        else:\n",
    "            print('O ano', ano, 'é bissexto')\n",
    "    else:\n",
    "        print('O ano', ano, 'não é bissexto')\n",
    "\n",
    "    cont += 1"
   ]
  },
  {
   "cell_type": "markdown",
   "metadata": {},
   "source": [
    "### Exercício <span class=\"exec\"></span>: Triângulo de asteriscos\n",
    "\n",
    "Faça um programa que pede para o usuário digitar um número $n>0$ e imprime um triângulo de asteriscos como na figura abaixo para $n=5$.\n",
    "\n",
    "<pre style=\"background-color: rgba(0,0,0,0);\">\n",
    "*\n",
    "**\n",
    "***\n",
    "****\n",
    "*****\n",
    "</pre>\n",
    "\n"
   ]
  },
  {
   "cell_type": "code",
   "execution_count": null,
   "metadata": {
    "collapsed": true
   },
   "outputs": [],
   "source": [
    "n = int(input(\"Qual o valor de n? \"))\n",
    "cont = 1\n",
    "\n",
    "while cont <= n:\n",
    "    estrelas = ''\n",
    "    for i in range(cont):\n",
    "        estrelas += '*'\n",
    "    print(estrelas)\n",
    "\n",
    "    cont += 1"
   ]
  },
  {
   "cell_type": "markdown",
   "metadata": {},
   "source": [
    "# Mais exercícios para o recesso\n"
   ]
  },
  {
   "cell_type": "markdown",
   "metadata": {},
   "source": [
    "### Exercício <span class=\"exec\"></span>: Números triangulares\n",
    "\n",
    "Um número natural $n$ é chamado de *triangular* se $n$ esferas idênticas podem ser dispostas em uma pilha de forma triângular. Veja na figura a seguir que os números 1, 3, 6 e 10 são números triangulares.\n",
    "\n",
    "<img src=\"http://tidia4.ufabc.edu.br/access/content/group/8398384e-4091-4504-9c21-eae9a6a24a61/Unidade%208/triangular.png\" width=\"400px\"></img>\n",
    "\n",
    "O número 1 também é considerado triangular, embora seja questionável se uma pilha com uma única esfera tenha forma triangular.\n",
    "\n",
    "Faça um programa que mostre qual é o $n$-ésimo número triangular. "
   ]
  },
  {
   "cell_type": "code",
   "execution_count": null,
   "metadata": {
    "collapsed": true
   },
   "outputs": [],
   "source": []
  },
  {
   "cell_type": "markdown",
   "metadata": {},
   "source": [
    "### Exercício <span class=\"exec\"></span>: Triângulo II\n",
    "\n",
    "Faça um programa que recebe três números inteiros $a, b$ e $c$ e que depois decide se esses números podem ser os comprimentos dos lados de um triângulo. No caso afirmativo, seu programa deve também dizer se o triângulo é equilátero, se é isósceles, e se tem algum ângulo obtuso ou não.\n",
    "\n",
    "**Exemplo:** se o usuário entrar com 2, 3 e 2, seu programa deve responder \n",
    "\n",
    "    Forma triângulo:   SIM\n",
    "    Equilátero:        NÃO\n",
    "    Isósceles:         SIM\n",
    "    Tem ângulo obtuso: SIM"
   ]
  },
  {
   "cell_type": "code",
   "execution_count": null,
   "metadata": {
    "collapsed": true
   },
   "outputs": [],
   "source": []
  },
  {
   "cell_type": "markdown",
   "metadata": {},
   "source": [
    "### Exercício <span class=\"exec\"></span>: Discos\n",
    "\n",
    "Um disco no plano pode ser representado por três números $x, y$ e $r$, onde $(x, y)$ são as cordenadas do centro do disco e $r$ é o raio. Faça um programa que pede ao usuário para fornecer os dados de dois discos (ou seja, que pede por seis números: $x1, y1, r1, x2, y2$ e $r2$) e que, em seguida, mostra uma mensagem dizendo se esses discos se intersectam ou não.\n",
    "\n",
    "<div style=\"text-align:center;\"><img width=\"200\" src=\"http://tidia4.ufabc.edu.br/access/content/group/8398384e-4091-4504-9c21-eae9a6a24a61/Unidade%208/disks.png\"/></div>"
   ]
  },
  {
   "cell_type": "code",
   "execution_count": null,
   "metadata": {
    "collapsed": true
   },
   "outputs": [],
   "source": []
  },
  {
   "cell_type": "markdown",
   "metadata": {},
   "source": [
    "### Exercício <span class=\"exec\"></span>: Números perfeitos\n",
    "\n",
    "Um número inteiro positivo é perfeito se for igual à soma dos seus divisores positivos próprios. (Divisores próprios são aqueles estritamente menores que o número em questão.)\n",
    "Por exemplo, 6 é perfeito pois seus divisores positivos próprios são 1, 2 e 3, e a soma deles é igual a 6.\n",
    "1+2+3=6\n",
    "1+2+3=6\n",
    " \n",
    "Faça um programa que pede ao usuário por um número inteiro  n>0n>0  e que decide se  nn  é perfeito.\n"
   ]
  },
  {
   "cell_type": "code",
   "execution_count": null,
   "metadata": {
    "collapsed": true
   },
   "outputs": [],
   "source": []
  },
  {
   "cell_type": "markdown",
   "metadata": {},
   "source": [
    "### Exercício <span class=\"exec\"></span>: Potência de 2\n",
    "\n",
    "Faça um programa que pede para o usuário digitar um número inteiro positivo $n$ e que, em seguida, decide se esse número é uma potência de 2 ou não. É proibido usar o módulo &nbsp;`math`&nbsp; ou qualquer outro módulo."
   ]
  },
  {
   "cell_type": "code",
   "execution_count": null,
   "metadata": {
    "collapsed": true
   },
   "outputs": [],
   "source": []
  },
  {
   "cell_type": "markdown",
   "metadata": {},
   "source": [
    "### Exercício <span class=\"exec\"></span>: Conversão a binário\n",
    "\n",
    "Faça um programa que pede ao usuário um número inteiro $n > 0$ e que depois mostre a representação binária de $n$. Ou seja, faça um programa de conversão de base. Por exemplo, a representação binária de 17 é 10001.\n",
    "\n",
    "**Dica:** a solução é parecida com a solução do problema _Troco_: suponha que você quer trocar o valor $n$ em moedas de valores $1, 2, 4, 8, 16, \\dots$."
   ]
  },
  {
   "cell_type": "code",
   "execution_count": null,
   "metadata": {
    "collapsed": true
   },
   "outputs": [],
   "source": []
  },
  {
   "cell_type": "markdown",
   "metadata": {},
   "source": [
    "### Exercício <span class=\"exec\"></span>: Pesquisa\n",
    "\n",
    "Numa pesquisa feita entre M habitantes de uma região foram coletados os dados de idade, sexo (M/F) e salário. Escreva um programa que calcule: a quantidade de homens,  o salário médio do grupo, a menor idade do grupo e a quantidade de mulheres com salário maior que a média. \n"
   ]
  },
  {
   "cell_type": "code",
   "execution_count": null,
   "metadata": {
    "collapsed": true
   },
   "outputs": [],
   "source": []
  },
  {
   "cell_type": "markdown",
   "metadata": {},
   "source": [
    "### Exercício <span class=\"exec\"></span>:  DDD\n",
    "\n",
    "Escreva um programa para obter informação sobre os códigos DDD de **dez** estados do Brasil (ver lista completa em https://pt.wikipedia.org/wiki/Discagem_direta_a_dist%C3%A2ncia). Seu programa deve mostrar um menu para escolher as seguintes opções:\n",
    "\n",
    "* Imprimir a tabela com os **dez** estados do Brasil escolhidos e seus DDDs\n",
    "* Dado um número DDD mostrar o estado correspondente\n",
    "* Dado um estado mostrar todos os DDDs correspondentes\n",
    "* Terminar o programa\n",
    "\n",
    "Lembre-se de fazer as validações apropriadas\n"
   ]
  },
  {
   "cell_type": "code",
   "execution_count": null,
   "metadata": {
    "collapsed": true
   },
   "outputs": [],
   "source": []
  },
  {
   "cell_type": "markdown",
   "metadata": {},
   "source": [
    "### Exercício <span class=\"exec\"></span>:  Sistema bancário\n",
    "\n",
    "Alice não confia nos bancos e guarda todo seu dinheiro em casa em duas contas: uma corrente e outra de poupança. Ela quer fazer um programa para registrar todas suas operações nas contas. Escreva um programa para ajudar a Alice nessa tarefa. O programa deve ler a quantidade inicial que Alice tem em ambas contas e mostrar um menu com as seguintes opções:\n",
    "\n",
    "* Depositar em conta corrente\n",
    "* Depositar em poupança\n",
    "* Extrair de conta corrente\n",
    "* Extrair de poupança\n",
    "* Transferência de conta corrente para poupança\n",
    "* Transferência de poupança para conta corrente \n",
    "* Mostrar o histórico das operações\n",
    "* Sair do programa\n",
    "\n",
    "Como ainda não aprendemos a lidar com arquivos, o histórico das operações se refere apenas às operações efetuadas depois que o programa foi executado (não se preocupe com operações feitas em execuções anteriores do programa).\n"
   ]
  },
  {
   "cell_type": "code",
   "execution_count": null,
   "metadata": {
    "collapsed": true
   },
   "outputs": [],
   "source": []
  },
  {
   "cell_type": "markdown",
   "metadata": {},
   "source": [
    "<span style=\"color: red;\">Execute a célula abaixo para melhorar a aparência deste <i>notebook</i>.</span>"
   ]
  },
  {
   "cell_type": "code",
   "execution_count": 2,
   "metadata": {
    "init_cell": true
   },
   "outputs": [
    {
     "data": {
      "text/html": [
       "<style>\n",
       ".rendered_html h1 {\n",
       "    background-color: #555;\n",
       "    color: white;\n",
       "    padding: .5em;\n",
       "    // border-bottom: 2px solid #000;\n",
       "    // padding-bottom: .6em;\n",
       "    margin-bottom: 1em;\n",
       "}\n",
       "\n",
       ".rendered_html h1 code {\n",
       "    color: #EBB7C5;\n",
       "    background-color: rgba(0,0,0,0);\n",
       "}\n",
       "\n",
       ".rendered_html h2 {\n",
       "    border-bottom: 1px solid #333;\n",
       "    padding-bottom: .6em;\n",
       "}\n",
       "                                      \n",
       ".rendered_html h3 {\n",
       "    color: #034f84;\n",
       "}\n",
       "\n",
       ".rendered_html code  {\n",
       "    padding: 2px 4px;\n",
       "    font-size: 90%;\n",
       "    color: #c7254e;\n",
       "    background-color: #f9f2f4;\n",
       "    border-radius: 4px;\n",
       "}\n",
       "\n",
       ".rendered_html pre code {\n",
       "    padding: 0px;\n",
       "    font-size: 90%;\n",
       "    color: #c7254e;\n",
       "    background-color: rgba(0, 0, 0, 0);\n",
       "}\n",
       "\n",
       "kbd {\n",
       "    border-radius: 3px;  \n",
       "    padding: 2px, 3px;\n",
       "}\n",
       "\n",
       "body {\n",
       "    counter-reset: h1counter excounter;\n",
       "}\n",
       "h1:before {\n",
       "    content: counter(h1counter) \".\\0000a0\\0000a0\";\n",
       "    counter-increment: h1counter;\n",
       "}\n",
       "span.exec:before {\n",
       "    content: counter(excounter);\n",
       "    counter-increment: excounter;\n",
       "}\n",
       "\n",
       "</style>  \n",
       "<script>\n",
       "location.hash = \"#homesweethome\";\n",
       "</script>\n"
      ],
      "text/plain": [
       "<IPython.core.display.HTML object>"
      ]
     },
     "metadata": {},
     "output_type": "display_data"
    }
   ],
   "source": [
    "%%html\n",
    "<style>\n",
    ".rendered_html h1 {\n",
    "    background-color: #555;\n",
    "    color: white;\n",
    "    padding: .5em;\n",
    "    // border-bottom: 2px solid #000;\n",
    "    // padding-bottom: .6em;\n",
    "    margin-bottom: 1em;\n",
    "}\n",
    "\n",
    ".rendered_html h1 code {\n",
    "    color: #EBB7C5;\n",
    "    background-color: rgba(0,0,0,0);\n",
    "}\n",
    "\n",
    ".rendered_html h2 {\n",
    "    border-bottom: 1px solid #333;\n",
    "    padding-bottom: .6em;\n",
    "}\n",
    "                                      \n",
    ".rendered_html h3 {\n",
    "    color: #034f84;\n",
    "}\n",
    "\n",
    ".rendered_html code  {\n",
    "    padding: 2px 4px;\n",
    "    font-size: 90%;\n",
    "    color: #c7254e;\n",
    "    background-color: #f9f2f4;\n",
    "    border-radius: 4px;\n",
    "}\n",
    "\n",
    ".rendered_html pre code {\n",
    "    padding: 0px;\n",
    "    font-size: 90%;\n",
    "    color: #c7254e;\n",
    "    background-color: rgba(0, 0, 0, 0);\n",
    "}\n",
    "\n",
    "kbd {\n",
    "    border-radius: 3px;  \n",
    "    padding: 2px, 3px;\n",
    "}\n",
    "\n",
    "body {\n",
    "    counter-reset: h1counter excounter;\n",
    "}\n",
    "h1:before {\n",
    "    content: counter(h1counter) \".\\0000a0\\0000a0\";\n",
    "    counter-increment: h1counter;\n",
    "}\n",
    "span.exec:before {\n",
    "    content: counter(excounter);\n",
    "    counter-increment: excounter;\n",
    "}\n",
    "\n",
    "</style>  \n",
    "<script>\n",
    "location.hash = \"#homesweethome\";\n",
    "</script>"
   ]
  },
  {
   "cell_type": "code",
   "execution_count": null,
   "metadata": {
    "collapsed": true
   },
   "outputs": [],
   "source": []
  }
 ],
 "metadata": {
  "anaconda-cloud": {},
  "kernelspec": {
   "display_name": "Python 3",
   "language": "python",
   "name": "python3"
  },
  "language_info": {
   "codemirror_mode": {
    "name": "ipython",
    "version": 3
   },
   "file_extension": ".py",
   "mimetype": "text/x-python",
   "name": "python",
   "nbconvert_exporter": "python",
   "pygments_lexer": "ipython3",
   "version": "3.8.8"
  }
 },
 "nbformat": 4,
 "nbformat_minor": 1
}
