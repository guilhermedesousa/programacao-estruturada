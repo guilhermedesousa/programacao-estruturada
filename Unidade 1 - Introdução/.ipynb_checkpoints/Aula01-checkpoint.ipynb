{
 "cells": [
  {
   "cell_type": "markdown",
   "metadata": {},
   "source": [
    "<div style=\"width: 100%; text-align: center; color: white; background-color: #222; font-size: 3em; font-weight: 700; padding: .5em .5em .6em .5em; line-height: 1.4em;\">Programação em Python para Iniciantes</div>\n",
    "\n",
    "<br>\n",
    "\n",
    "<!-- # Programação em Python para Iniciantes -->\n",
    "\n",
    "Antes de mais nada, este é um _nootebook_: um arquivo estruturado que contém texto e código intercalados. A maneira ideal de acessar este arquivo, seja para leitura ou edição, é através do software [Jupyter](http://jupyter.org/). \n",
    "\n",
    "Em um _notebook_, as unidades básicas de texto ou de código são chamadas de células. É fácil distinguir as células de código: elas vem precedidas por \n",
    "\n",
    "    In [ ]:\n",
    "    \n",
    "como a célula abaixo."
   ]
  },
  {
   "cell_type": "code",
   "execution_count": 1,
   "metadata": {},
   "outputs": [
    {
     "data": {
      "text/plain": [
       "4"
      ]
     },
     "execution_count": 1,
     "metadata": {},
     "output_type": "execute_result"
    }
   ],
   "source": [
    "2 + 2"
   ]
  },
  {
   "cell_type": "markdown",
   "metadata": {},
   "source": [
    "Se você estiver acessando este arquivo pelo Jupyter, então muito provavelmente você poderá executar as células de código. Para executar uma célula de código, basta selecionar a célula e digitar <kbd>SHIFT+ENTER</kbd>. Qualquer saída gerada pelo código executado será exibida logo em seguida.\n",
    "\n",
    "Neste _notebook_, vamos aprender alguns elementos de programação em Python e vamos nos familiarizar com o ambiente do Jupyter.\n",
    "\n",
    "<hr style=\"border-color: #ddd;\">"
   ]
  },
  {
   "cell_type": "markdown",
   "metadata": {},
   "source": [
    "# Python como uma calculadora\n",
    "\n",
    "Em qualquer trabalho moderno, é comum precisarmos de uma calculadora para fazer contas. O console do Python é uma excelente ferramenta para se fazer cálculos.\n",
    "\n",
    "## As quatro operações\n",
    "\n",
    "Clique em cada célula abaixo, tecle <kbd>SHIFT-ENTER</kbd> e veja o que acontece."
   ]
  },
  {
   "cell_type": "code",
   "execution_count": 2,
   "metadata": {},
   "outputs": [
    {
     "data": {
      "text/plain": [
       "12"
      ]
     },
     "execution_count": 2,
     "metadata": {},
     "output_type": "execute_result"
    }
   ],
   "source": [
    "10 + 5 - 3"
   ]
  },
  {
   "cell_type": "code",
   "execution_count": 3,
   "metadata": {},
   "outputs": [
    {
     "data": {
      "text/plain": [
       "12"
      ]
     },
     "execution_count": 3,
     "metadata": {},
     "output_type": "execute_result"
    }
   ],
   "source": [
    "4 * 3"
   ]
  },
  {
   "cell_type": "code",
   "execution_count": 4,
   "metadata": {},
   "outputs": [
    {
     "data": {
      "text/plain": [
       "21.02"
      ]
     },
     "execution_count": 4,
     "metadata": {},
     "output_type": "execute_result"
    }
   ],
   "source": [
    "2800.20 / 133.21598477640342"
   ]
  },
  {
   "cell_type": "code",
   "execution_count": 5,
   "metadata": {},
   "outputs": [
    {
     "data": {
      "text/plain": [
       "2.4"
      ]
     },
     "execution_count": 5,
     "metadata": {},
     "output_type": "execute_result"
    }
   ],
   "source": [
    "12 / 5"
   ]
  },
  {
   "cell_type": "markdown",
   "metadata": {},
   "source": [
    "Ou seja, usamos os símbolos &nbsp;`+`&nbsp;, &nbsp;`-`&nbsp;, &nbsp;`*`&nbsp; e &nbsp;`/`&nbsp; para soma, subtração, multiplicação e divisão, respectivamente. Isso é como você esperava, não é?\n",
    "\n",
    "Então, para executar uma célula, basta teclar <kbd>SHIFT-ENTER</kbd>. Se você teclar <kbd>ENTER</kbd> sozinho, você criará mais linhas dentro da mesma célula.\n",
    "\n",
    "<span style=\"color: #FF0000;\"><b>Atenção:</b></span> o caractére que separa as casas decimais em Python é o **ponto** e não a vírgula!"
   ]
  },
  {
   "cell_type": "markdown",
   "metadata": {},
   "source": [
    "## Potenciação\n",
    "\n",
    "A potenciação é denotada por `**`. Ou seja, para calcular $2^4$, precisamos escrever `2**4`.\n",
    "\n",
    "Execute as células abaixo apertando <kbd>SHIFT-ENTER</kbd>. Tente prever o resultado antes!"
   ]
  },
  {
   "cell_type": "code",
   "execution_count": 6,
   "metadata": {},
   "outputs": [
    {
     "data": {
      "text/plain": [
       "16"
      ]
     },
     "execution_count": 6,
     "metadata": {},
     "output_type": "execute_result"
    }
   ],
   "source": [
    "2**4"
   ]
  },
  {
   "cell_type": "code",
   "execution_count": 7,
   "metadata": {},
   "outputs": [
    {
     "data": {
      "text/plain": [
       "9"
      ]
     },
     "execution_count": 7,
     "metadata": {},
     "output_type": "execute_result"
    }
   ],
   "source": [
    "3**2"
   ]
  },
  {
   "cell_type": "markdown",
   "metadata": {},
   "source": [
    "## Divisão inteira e resto\n",
    "\n",
    "Python tem um tipo especial de divisão que é chamada de divisão inteira, em que um número é dividido por outro e depois o resultado é **arrendondado** para baixo. O operador de divisão inteira é `//`.\n",
    "\n",
    "Mais formalmente, quando `a` e `b` são números inteiros, `a // b` é o quociente da divisão de `a` por `b`.\n",
    "\n",
    "Veja como a divisão inteira funciona:"
   ]
  },
  {
   "cell_type": "code",
   "execution_count": 8,
   "metadata": {},
   "outputs": [
    {
     "data": {
      "text/plain": [
       "1"
      ]
     },
     "execution_count": 8,
     "metadata": {},
     "output_type": "execute_result"
    }
   ],
   "source": [
    "3//2"
   ]
  },
  {
   "cell_type": "code",
   "execution_count": 9,
   "metadata": {},
   "outputs": [
    {
     "data": {
      "text/plain": [
       "3"
      ]
     },
     "execution_count": 9,
     "metadata": {},
     "output_type": "execute_result"
    }
   ],
   "source": [
    "11//3"
   ]
  },
  {
   "cell_type": "markdown",
   "metadata": {},
   "source": [
    "Python também tem o operador &nbsp;`%`&nbsp; que calcula o resto da divisão de um número por outro.\n",
    "\n",
    "Por exemplo, o resto da divisão de 17 por 5 é igual 2. Veja:"
   ]
  },
  {
   "cell_type": "code",
   "execution_count": 13,
   "metadata": {},
   "outputs": [
    {
     "data": {
      "text/plain": [
       "2"
      ]
     },
     "execution_count": 13,
     "metadata": {},
     "output_type": "execute_result"
    }
   ],
   "source": [
    "17%5"
   ]
  },
  {
   "cell_type": "code",
   "execution_count": 14,
   "metadata": {},
   "outputs": [
    {
     "data": {
      "text/plain": [
       "6"
      ]
     },
     "execution_count": 14,
     "metadata": {},
     "output_type": "execute_result"
    }
   ],
   "source": [
    "13%7"
   ]
  },
  {
   "cell_type": "markdown",
   "metadata": {},
   "source": [
    "## Combinando operações\n",
    "\n",
    "Você consegue prever o resultado das expressões abaixo?\n",
    "\n",
    "Execute as células para verificar se você acertou!\n"
   ]
  },
  {
   "cell_type": "code",
   "execution_count": 15,
   "metadata": {},
   "outputs": [
    {
     "data": {
      "text/plain": [
       "6"
      ]
     },
     "execution_count": 15,
     "metadata": {},
     "output_type": "execute_result"
    }
   ],
   "source": [
    "8*3//2**2"
   ]
  },
  {
   "cell_type": "code",
   "execution_count": 17,
   "metadata": {},
   "outputs": [
    {
     "data": {
      "text/plain": [
       "18"
      ]
     },
     "execution_count": 17,
     "metadata": {},
     "output_type": "execute_result"
    }
   ],
   "source": [
    "(1+5)*3"
   ]
  },
  {
   "cell_type": "markdown",
   "metadata": {},
   "source": [
    "Neste último caso, o Python primeiro calcula o `5*3` e depois soma 1, certo?\n",
    "\n",
    "Isso acontece porque o Python executa as operações na seguinte ordem de precedência:\n",
    "\n",
    "\n",
    "1.    &nbsp;&nbsp;&nbsp;`**`\n",
    "2.    &nbsp;&nbsp;&nbsp;`*`&nbsp;&nbsp;&nbsp;&nbsp;`/`&nbsp;&nbsp;&nbsp;&nbsp;`//`&nbsp;&nbsp;&nbsp;&nbsp;`%`\n",
    "3.    &nbsp;&nbsp;&nbsp;`+`&nbsp;&nbsp;&nbsp;&nbsp;`-`\n",
    "\n",
    "Na dúvida, você pode colocar parênteses para deixar a ordem explícita.\n",
    "\n",
    "Poderíamos, por exemplo, alterar a célula acima colocando `(1+5)*3` para indicar que o `+` deve ser feito antes do `*`.\n",
    "\n"
   ]
  },
  {
   "cell_type": "markdown",
   "metadata": {},
   "source": [
    "<hr>\n",
    "\n",
    "### Exercício <span class=\"exec\"></span>: parcelas sem juros I\n",
    "\n",
    "Alice pagou uma televisão de R$ 3250.00 em 12 vezes sem juros. Qual o valor de cada parcela?"
   ]
  },
  {
   "cell_type": "code",
   "execution_count": 18,
   "metadata": {},
   "outputs": [
    {
     "data": {
      "text/plain": [
       "270.8333333333333"
      ]
     },
     "execution_count": 18,
     "metadata": {},
     "output_type": "execute_result"
    }
   ],
   "source": [
    "3250/12"
   ]
  },
  {
   "cell_type": "markdown",
   "metadata": {},
   "source": [
    "<hr>\n",
    "\n",
    "### Exercício <span class=\"exec\"></span>: aniversário\n",
    "\n",
    "João faz 10 anos de idade hoje, neste exato momento! Na célula abaixo, calcule quantos segundos de vida ele acabou de comemorar. (Ignore os anos bissextos.)\n"
   ]
  },
  {
   "cell_type": "code",
   "execution_count": 21,
   "metadata": {},
   "outputs": [
    {
     "data": {
      "text/plain": [
       "315360000"
      ]
     },
     "execution_count": 21,
     "metadata": {},
     "output_type": "execute_result"
    }
   ],
   "source": [
    "60*60*24*365*10"
   ]
  },
  {
   "cell_type": "markdown",
   "metadata": {},
   "source": [
    "<hr>\n",
    "\n",
    "### Exercício <span class=\"exec\"></span>: vazamento\n",
    "\n",
    "Uma torneira pinga a uma taxa de 1 gota por segundo. Cada gota possui um volume de 0.05 mililitros. Calcule o volume de água desperdiçado depois de exatos 3 dias de vazamento. Faça a conta de modo que a resposta seja em litros."
   ]
  },
  {
   "cell_type": "code",
   "execution_count": 22,
   "metadata": {},
   "outputs": [
    {
     "data": {
      "text/plain": [
       "12.96"
      ]
     },
     "execution_count": 22,
     "metadata": {},
     "output_type": "execute_result"
    }
   ],
   "source": [
    "((1*60*60*24*3)*0.05)*(10**(-3))"
   ]
  },
  {
   "cell_type": "markdown",
   "metadata": {},
   "source": [
    "---\n",
    "\n",
    "### Exercício <span class=\"exec\"></span>: dobradura\n",
    "\n",
    "Uma folha de papel sulfite tem 0.1mm de espessura. Dobrando a folha ao meio, a espessura passa a ser 0.2mm. Dobrando ao meio de novo, a espessura vai para 0.4mm. Mais uma vez e a espessura aumenta para 0.8mm, e assim vai. \n",
    "\n",
    "Sabemos que não é possível dobrar uma folha de papel sulfite ao meio mais do que 5 ou 6 vezes mas, supondo que fosse possível dobrá-la 27 vezes, qual seria a espessura da dobradura resultante?\n",
    "\n",
    "Faça a conta de modo que a resposta seja em kilômetros."
   ]
  },
  {
   "cell_type": "code",
   "execution_count": 32,
   "metadata": {},
   "outputs": [
    {
     "data": {
      "text/plain": [
       "13.4217728"
      ]
     },
     "execution_count": 32,
     "metadata": {},
     "output_type": "execute_result"
    }
   ],
   "source": [
    "((2**27)*0.1)*(10**(-6))"
   ]
  },
  {
   "cell_type": "markdown",
   "metadata": {},
   "source": [
    "\n",
    "\n",
    "## Variáveis\n",
    "\n",
    "Você pode guardar o resultado de um cálculo em uma variável para tornar a usá-lo.\n",
    "\n",
    "Vamos fazer o cálculo de conversão de temperatura de Celsius para Fahrenheit. Podemos começar colocando a temperatura em Celsius, digamos 55 graus, numa variável chamada `C`.\n",
    "\n",
    "Não se esqueça de teclar <kbd>SHIFT+ENTER</kbd> em cada uma das células abaixo."
   ]
  },
  {
   "cell_type": "code",
   "execution_count": 41,
   "metadata": {},
   "outputs": [],
   "source": [
    "C = 80"
   ]
  },
  {
   "cell_type": "markdown",
   "metadata": {},
   "source": [
    "Veja o valor de C teclando <kbd>SHIFT+ENTER</kbd> na célula abaixo."
   ]
  },
  {
   "cell_type": "code",
   "execution_count": 42,
   "metadata": {},
   "outputs": [
    {
     "data": {
      "text/plain": [
       "80"
      ]
     },
     "execution_count": 42,
     "metadata": {},
     "output_type": "execute_result"
    }
   ],
   "source": [
    "C"
   ]
  },
  {
   "cell_type": "markdown",
   "metadata": {},
   "source": [
    "Para converter para Fahrenheit, temos que multiplicar `C` por `9/5` e depois somar `32`:"
   ]
  },
  {
   "cell_type": "code",
   "execution_count": 43,
   "metadata": {},
   "outputs": [],
   "source": [
    "F = C * 9 / 5 + 32"
   ]
  },
  {
   "cell_type": "markdown",
   "metadata": {},
   "source": [
    "Veja o valor de F teclando <kbd>SHIFT+ENTER</kbd> na célula abaixo:"
   ]
  },
  {
   "cell_type": "code",
   "execution_count": 45,
   "metadata": {},
   "outputs": [
    {
     "data": {
      "text/plain": [
       "176.0"
      ]
     },
     "execution_count": 45,
     "metadata": {},
     "output_type": "execute_result"
    }
   ],
   "source": [
    "F"
   ]
  },
  {
   "cell_type": "markdown",
   "metadata": {},
   "source": [
    "\n",
    "E se você quisesse converter &nbsp;`65`&nbsp; em vez de &nbsp;`55`?\n",
    "\n",
    "Basta voltar na linha em que você definiu &nbsp;`C = 55`&nbsp; e mudar para &nbsp;`C = 65`&nbsp; e reexecutar a célula.\n",
    "\n",
    "Em seguida, reexecute a linha que definiu &nbsp;`F = C \\* 9 / 5 + 32`&nbsp; para atualizar o valor em Fahrenheit.\n",
    "\n",
    "Depois, reexecute a linha seguinte para imprimir o novo valor de &nbsp;`F`.\n",
    "\n",
    "O novo valor de &nbsp;`F`&nbsp; deve ser &nbsp;`149`.\n"
   ]
  },
  {
   "cell_type": "markdown",
   "metadata": {},
   "source": [
    "<hr>\n",
    "\n",
    "### Exercício <span class=\"exec\"></span>: conversão de temperatura\n",
    "\n",
    "\n",
    "Modifique as células acima (e reexecute tudo o que for necessário) para converter 80 Celsius para Fahrenheit!\n",
    "\n",
    "<hr>"
   ]
  },
  {
   "cell_type": "markdown",
   "metadata": {},
   "source": [
    "#### Maiúscula ou minúscula?\n",
    "\n",
    "<span style=\"color: #FF0000;\"><b>Atenção:</b></span> letras maiúsculas ou minúsculas fazem diferença!\n",
    "\n",
    "Uma variável chamada `C` e outra chamada `c` são coisas diferentes! Veja o que acontece:\n"
   ]
  },
  {
   "cell_type": "code",
   "execution_count": 46,
   "metadata": {},
   "outputs": [],
   "source": [
    "C = 0\n",
    "c = 1"
   ]
  },
  {
   "cell_type": "code",
   "execution_count": 47,
   "metadata": {},
   "outputs": [
    {
     "data": {
      "text/plain": [
       "0"
      ]
     },
     "execution_count": 47,
     "metadata": {},
     "output_type": "execute_result"
    }
   ],
   "source": [
    "C"
   ]
  },
  {
   "cell_type": "code",
   "execution_count": 48,
   "metadata": {},
   "outputs": [
    {
     "data": {
      "text/plain": [
       "1"
      ]
     },
     "execution_count": 48,
     "metadata": {},
     "output_type": "execute_result"
    }
   ],
   "source": [
    "c"
   ]
  },
  {
   "cell_type": "markdown",
   "metadata": {},
   "source": [
    "Como uma boa prática de programação, evite usar acentos ou outros caractéres especiais em nomes de variáveis.\n",
    "\n",
    "<span style=\"color: #FF0000;\"><b>Atenção:</b></span> nome de variável não pode começar com dígito numérico, mas pode conter dígitos depois do primeiro caractére.\n"
   ]
  },
  {
   "cell_type": "markdown",
   "metadata": {},
   "source": [
    "# Mais sobre o Jupyter\n"
   ]
  },
  {
   "cell_type": "markdown",
   "metadata": {},
   "source": [
    "### Múltiplas linhas de código\n",
    "\n",
    "Células de código podem ter múltiplas linhas. Veja como ficaria o exemplo da conversão de unidades de temperatura numa única célula:"
   ]
  },
  {
   "cell_type": "code",
   "execution_count": 49,
   "metadata": {},
   "outputs": [
    {
     "data": {
      "text/plain": [
       "131.0"
      ]
     },
     "execution_count": 49,
     "metadata": {},
     "output_type": "execute_result"
    }
   ],
   "source": [
    "C = 55\n",
    "F = C * 9 / 5 + 32\n",
    "F"
   ]
  },
  {
   "cell_type": "markdown",
   "metadata": {},
   "source": [
    "### Salvando seu trabalho\n",
    "\n",
    "Para salvar o seu trabalho, cliquem em **_File &raquo; Save and Checkpoint_** ou no ícone do disquete.\n",
    "\n",
    "**Atenção:** se você estiver usando o site [tmpnb.org](http://tmpnb.org), não é possível salvar arquivos! Nesse caso, clique em **_File &raquo; Download as &raquo; IPython Notebook (.ipynb)_** para baixar uma cópia do _notebook_ para o seu computador, e baixe cópias frequentemente para não perder o seu trabalho!\n"
   ]
  },
  {
   "cell_type": "markdown",
   "metadata": {},
   "source": [
    "### Células de texto\n",
    "\n",
    "Você pode modificar os textos explicativos e fazer _seus próprios comentários_ em [Markdown](https://en.wikipedia.org/wiki/Markdown). Para editar uma célula de texto (como esta) é só dar um duplo-clique na célula. Quando terminar de editar, é só apertar <kbd>SHIFT-ENTER</kbd> para que o texto fique bem formatado novamente. <i>Tags</i> <span style=\"color: #c94c4c;\"><b>HTML</b></span> e fórmulas em _Latex_ também são permitidas:\n",
    "\n",
    "$$ \\int_0^t 3x^2\\, dx $$\n"
   ]
  },
  {
   "cell_type": "markdown",
   "metadata": {},
   "source": [
    "### Mais sobre células\n",
    "\n",
    "Explore os menus _**Edit**_, _**Insert**_ e depois _**Cell**_, para ver quais operações com células podem ser efetuadas. Você também pode usar atalhod pelo teclado para acessar essas funções:\n",
    "\n",
    "* <kbd>ESC B</kbd> insere uma nova célula de código **abaixo** da célula selecionada;\n",
    "* <kbd>ESC A</kbd> insere uma nova célula de código **acima** da célula selecionada;\n",
    "* <kbd>ESC M</kbd> transforma uma célula em célula de **texto**;\n",
    "* <kbd>ESC Y</kbd> transforma uma célula em célula de **código**;\n",
    "* <kbd>CTRL+SHIFT+P</kbd> mostra mais atalhos do teclado.\n"
   ]
  },
  {
   "cell_type": "markdown",
   "metadata": {},
   "source": [
    "\n",
    "\n",
    "# Entrada e saída\n",
    "\n",
    "\n",
    "Todo programa de computador precisa:\n",
    "\n",
    "* receber dados de alguma fonte (teclado, mouse, arquivo, internet, etc.), \n",
    "* processar esses dados e, \n",
    "* enviar o resultado do processamento para algum lugar (tela, arquivo, impressora, web, etc.).\n",
    "\n",
    "Então, quando tratamos do fluxo de dados por um programa de computador, é comum classsificar os dados como\n",
    "\n",
    "* dados de entrada: são aqueles que o programa **recebe**, e\n",
    "* dados de saída: são aqueles que programa **mostra** ao usuário.\n",
    "\n"
   ]
  },
  {
   "cell_type": "markdown",
   "metadata": {},
   "source": [
    "## Mostrando dados (saída)\n",
    "\n",
    "\n",
    "No exemplo de conversão de temperatura, nós usamos o seguinte código."
   ]
  },
  {
   "cell_type": "code",
   "execution_count": 50,
   "metadata": {},
   "outputs": [
    {
     "data": {
      "text/plain": [
       "131.0"
      ]
     },
     "execution_count": 50,
     "metadata": {},
     "output_type": "execute_result"
    }
   ],
   "source": [
    "C = 55\n",
    "F = C * 9 / 5 + 32\n",
    "F"
   ]
  },
  {
   "cell_type": "markdown",
   "metadata": {},
   "source": [
    "Suponha agora que também quiséssemos calcular a temperatura em Kelvin:"
   ]
  },
  {
   "cell_type": "code",
   "execution_count": 51,
   "metadata": {},
   "outputs": [
    {
     "data": {
      "text/plain": [
       "328.15"
      ]
     },
     "execution_count": 51,
     "metadata": {},
     "output_type": "execute_result"
    }
   ],
   "source": [
    "C = 55\n",
    "F = C * 9 / 5 + 32\n",
    "F\n",
    "K = C + 273.15\n",
    "K"
   ]
  },
  {
   "cell_type": "markdown",
   "metadata": {},
   "source": [
    "Hummm... só o K apareceu e nada do F!\n",
    "\n",
    "Para fazer com que um dado seja mostrado na saída, podemos usar a função `print()`:"
   ]
  },
  {
   "cell_type": "code",
   "execution_count": 52,
   "metadata": {},
   "outputs": [
    {
     "name": "stdout",
     "output_type": "stream",
     "text": [
      "131.0\n",
      "328.15\n"
     ]
    }
   ],
   "source": [
    "C = 55\n",
    "F = C * 9 / 5 + 32\n",
    "print(F)\n",
    "K = C + 273.15\n",
    "print(K)"
   ]
  },
  {
   "cell_type": "markdown",
   "metadata": {},
   "source": [
    "Agora sim!\n",
    "\n",
    "Poderíamos também deixar a saída melhor formatada, você não acha?"
   ]
  },
  {
   "cell_type": "code",
   "execution_count": 53,
   "metadata": {},
   "outputs": [
    {
     "name": "stdout",
     "output_type": "stream",
     "text": [
      "55 Celsius em Fahrenheit é 131.0\n",
      "55 Celsius em Kelvin é 328.15\n"
     ]
    }
   ],
   "source": [
    "C = 55\n",
    "F = C * 9 / 5 + 32\n",
    "print(C, \"Celsius em Fahrenheit é\", F)\n",
    "K = C + 273.15\n",
    "print(C, 'Celsius em Kelvin é', K)"
   ]
  },
  {
   "cell_type": "markdown",
   "metadata": {},
   "source": [
    "Em linhas gerais, a função `print()` recebe uma lista de argumentos (dados numéricos ou de texto) e mostra esses argumentos na saída, separando-os com um espaço em branco. Por fim, o `print()` manda \"pular uma linha\" na saída."
   ]
  },
  {
   "cell_type": "markdown",
   "metadata": {},
   "source": [
    "## Perguntando dados (entrada)\n",
    "\n",
    "\n",
    "Agora que você já sabe mostrar dados na saída, é importante que você aprenda a fazer perguntas ao usuário e saiba receber a reposta que ele digitar.\n",
    "\n",
    "Para pedir que o usuário entre com um dado de texto, use a função `input()`. \n",
    "\n",
    "Veja os exemplos:\n"
   ]
  },
  {
   "cell_type": "code",
   "execution_count": 54,
   "metadata": {},
   "outputs": [
    {
     "name": "stdout",
     "output_type": "stream",
     "text": [
      "Qual é seu nome? Guilherme\n",
      "Olá, Guilherme\n"
     ]
    }
   ],
   "source": [
    "nome = input(\"Qual é seu nome? \")\n",
    "print(\"Olá,\", nome)"
   ]
  },
  {
   "cell_type": "markdown",
   "metadata": {},
   "source": [
    "Mas olha agora que estranho, execute o código abaixo e responda 1 quando for perguntado a respeito da idade:"
   ]
  },
  {
   "cell_type": "code",
   "execution_count": 55,
   "metadata": {},
   "outputs": [
    {
     "name": "stdout",
     "output_type": "stream",
     "text": [
      "Qual é a sua idade? 1\n",
      "O dobro da sua idade é 11\n"
     ]
    }
   ],
   "source": [
    "idade = input(\"Qual é a sua idade? \")\n",
    "dobro = idade + idade\n",
    "print(\"O dobro da sua idade é\", dobro)"
   ]
  },
  {
   "cell_type": "markdown",
   "metadata": {},
   "source": [
    "**11?? Mas por quê??**"
   ]
  },
  {
   "cell_type": "markdown",
   "metadata": {},
   "source": [
    "O que acontece é que a função `input()` do Python sempre devolve o que o usuário digitar em formato **texto**. \n",
    "\n",
    "Em Python, textos são delimitados por aspas simples ou duplas. Veja:"
   ]
  },
  {
   "cell_type": "code",
   "execution_count": 56,
   "metadata": {},
   "outputs": [
    {
     "data": {
      "text/plain": [
       "'Maria'"
      ]
     },
     "execution_count": 56,
     "metadata": {},
     "output_type": "execute_result"
    }
   ],
   "source": [
    "\"Maria\""
   ]
  },
  {
   "cell_type": "code",
   "execution_count": 57,
   "metadata": {},
   "outputs": [
    {
     "data": {
      "text/plain": [
       "'João'"
      ]
     },
     "execution_count": 57,
     "metadata": {},
     "output_type": "execute_result"
    }
   ],
   "source": [
    "\"João\""
   ]
  },
  {
   "cell_type": "markdown",
   "metadata": {},
   "source": [
    "E olha o que acontece com a soma de dois textos:"
   ]
  },
  {
   "cell_type": "code",
   "execution_count": 58,
   "metadata": {},
   "outputs": [
    {
     "data": {
      "text/plain": [
       "'MariaJoão'"
      ]
     },
     "execution_count": 58,
     "metadata": {},
     "output_type": "execute_result"
    }
   ],
   "source": [
    "\"Maria\" + \"João\""
   ]
  },
  {
   "cell_type": "markdown",
   "metadata": {},
   "source": [
    "Ou seja, somar dois textos tem o efeito de grudá-los.\n",
    "\n",
    "Para ser um pouco mais formal, nós dizemos que o operador `+` **concatena** os textos.\n",
    "\n",
    "Então, no exemplo anterior, como o Python entendeu que a entrada era um texto, o que ele fez foi equivalente ao seguinte:"
   ]
  },
  {
   "cell_type": "code",
   "execution_count": 60,
   "metadata": {},
   "outputs": [
    {
     "name": "stdout",
     "output_type": "stream",
     "text": [
      "123123\n"
     ]
    }
   ],
   "source": [
    "idade = \"123\"\n",
    "dobro = idade + idade \n",
    "print(dobro)"
   ]
  },
  {
   "cell_type": "markdown",
   "metadata": {},
   "source": [
    "---\n",
    "\n",
    "### Exercício <span class=\"exec\"></span>: idade avançada\n",
    "\n",
    "Mude apenas o valor inicial da variável `idade` no programa acima para imprimir 123123 em vez de 11.\n",
    "\n",
    "---"
   ]
  },
  {
   "cell_type": "markdown",
   "metadata": {},
   "source": [
    "## Conversão texto $\\rightarrow$ número\n",
    "\n",
    "Mas o que fazer se quisermos perguntar números em vez de texto?\n",
    "\n",
    "É importante que você saiba que, intenamente, existem três tipos de dados numéricos no Python 3:\n",
    "\n",
    "* números inteiros ( *int* ), como 1, 0, -1, 2, 4\n",
    "* números de ponto flutuante ( *float* ), como 2.13, 1.1, 1.00001, -12.3\n",
    "* números complexos.\n"
   ]
  },
  {
   "cell_type": "markdown",
   "metadata": {},
   "source": [
    "Para pedir um número ao usuário, basta converter o texto que ele digitou para um número do tipo desejado. Isso pode ser feito através das funções `int()` ou `float()`. Veja um exemplo abaixo."
   ]
  },
  {
   "cell_type": "code",
   "execution_count": 61,
   "metadata": {},
   "outputs": [
    {
     "name": "stdout",
     "output_type": "stream",
     "text": [
      "Qual é a sua idade? 19\n",
      "O dobro da sua idade é 38\n"
     ]
    }
   ],
   "source": [
    "idade_texto = input(\"Qual é a sua idade? \")\n",
    "idade = int(idade_texto)\n",
    "dobro = idade + idade\n",
    "print(\"O dobro da sua idade é\", dobro)"
   ]
  },
  {
   "cell_type": "markdown",
   "metadata": {},
   "source": [
    "A linha \n",
    "\n",
    "    idade = int(idade_texto)\n",
    "        \n",
    "converte o valor guardado na variável `idade_texto` para o tipo _int_ e guarda o resultado em `idade`.\n",
    "\n",
    "Escolhemos converter para _int_ pois consideramos idade como sendo um número inteiro.\n",
    "\n",
    "É mais comum &ndash; e mais desejável &ndash; escrever o programa assim:"
   ]
  },
  {
   "cell_type": "code",
   "execution_count": 62,
   "metadata": {},
   "outputs": [
    {
     "name": "stdout",
     "output_type": "stream",
     "text": [
      "Qual é a sua idade? 19\n",
      "O dobro da sua idade é 38\n"
     ]
    }
   ],
   "source": [
    "idade = int(input(\"Qual é a sua idade? \"))\n",
    "dobro = idade + idade\n",
    "print(\"O dobro da sua idade é\", dobro)"
   ]
  },
  {
   "cell_type": "markdown",
   "metadata": {},
   "source": [
    "Nessa versão do programa, a linha \n",
    "\n",
    "    idade = int(input(\"Qual é a sua idade? \"))\n",
    "    \n",
    "faz o mesmo que as duas linhas \n",
    "\n",
    "    idade_texto = input(\"Qual é a sua idade? \")\n",
    "    idade = int(idade_texto)\n",
    "\n",
    "e tem a vantagem de deixar o código mais sucinto e mais legível."
   ]
  },
  {
   "cell_type": "markdown",
   "metadata": {},
   "source": [
    "<hr>\n",
    "\n",
    "Se você quiser permitir que a idade seja um número quebrado, você pode converter o texto lido para _float_:"
   ]
  },
  {
   "cell_type": "code",
   "execution_count": 63,
   "metadata": {},
   "outputs": [
    {
     "name": "stdout",
     "output_type": "stream",
     "text": [
      "Qual é a sua idade? 19\n",
      "O dobro da sua idade é 38.0\n"
     ]
    }
   ],
   "source": [
    "idade = float(input(\"Qual é a sua idade? \"))\n",
    "dobro = idade + idade\n",
    "print(\"O dobro da sua idade é\", dobro)"
   ]
  },
  {
   "cell_type": "markdown",
   "metadata": {},
   "source": [
    "## Conversão número $\\rightarrow$ texto\n",
    "\n",
    "Para converter um número (ou uma expressão numérica) para texto, você pode usar a função `str()`.\n",
    "\n",
    "Veja o exemplo:"
   ]
  },
  {
   "cell_type": "code",
   "execution_count": 65,
   "metadata": {},
   "outputs": [
    {
     "name": "stdout",
     "output_type": "stream",
     "text": [
      "Digite um ano qualquer do passado (4 dígitos): 2020\n",
      "Em 2020, quantos anos você completou? 19\n",
      "Em 2016, você completou 15 anos.\n"
     ]
    }
   ],
   "source": [
    "ano = int(input('Digite um ano qualquer do passado (4 dígitos): '))\n",
    "idade = int(input('Em ' + str(ano) + ', quantos anos você completou? '))\n",
    "print('Em 2016, você completou ' + str(idade + 2016 - ano) + ' anos.')"
   ]
  },
  {
   "cell_type": "markdown",
   "metadata": {},
   "source": [
    "### Limitando as casas decimais\n",
    "\n",
    "Para exibir somente um número limitado de casas decimais de um número _float_, podemos usar a função `round()`. Veja o exemplo abaixo."
   ]
  },
  {
   "cell_type": "code",
   "execution_count": 66,
   "metadata": {},
   "outputs": [
    {
     "data": {
      "text/plain": [
       "234.235"
      ]
     },
     "execution_count": 66,
     "metadata": {},
     "output_type": "execute_result"
    }
   ],
   "source": [
    "round(234.234812312854, 3)"
   ]
  },
  {
   "cell_type": "markdown",
   "metadata": {},
   "source": [
    "Veja outro exemplo."
   ]
  },
  {
   "cell_type": "code",
   "execution_count": 67,
   "metadata": {},
   "outputs": [
    {
     "name": "stdout",
     "output_type": "stream",
     "text": [
      "O valor de cada parcela será de R$ 121.07\n"
     ]
    }
   ],
   "source": [
    "valor = 1573.90\n",
    "num_parcelas = 13\n",
    "print('O valor de cada parcela será de R$ ' + str(round(valor/num_parcelas, 2)))"
   ]
  },
  {
   "cell_type": "markdown",
   "metadata": {},
   "source": [
    "### Formatação de texto\n",
    "\n",
    "Para mais informações sobre formatação de número ou texto, consulte a página [https://pyformat.info/](https://pyformat.info/)."
   ]
  },
  {
   "cell_type": "markdown",
   "metadata": {},
   "source": [
    "# Mais exercícios"
   ]
  },
  {
   "cell_type": "markdown",
   "metadata": {},
   "source": [
    "---\n",
    "\n",
    "### Exercício <span class=\"exec\"></span>: parcelas sem juros II\n",
    "\n",
    "Escreva um programa que auxilia uma loja na hora de fazer uma venda. Seu programa deve:\n",
    "\n",
    "* perguntar o preço do produto;\n",
    "* perguntar o número de parcelas em que o cliente deseja pagar (sem juros);\n",
    "* mostrar quanto será o valor de uma parcela.\n",
    "\n",
    "Obs.: lembre-se de digitar os número com ponto (como 18.50 ao invés de 18,50)."
   ]
  },
  {
   "cell_type": "code",
   "execution_count": 15,
   "metadata": {
    "scrolled": true
   },
   "outputs": [
    {
     "name": "stdout",
     "output_type": "stream",
     "text": [
      "Informe o preço do produto: 1220\n",
      "Informe o número de parcelas que deseja pagar (sem juros): 12\n",
      "==================================================================\n",
      "Cada parcela terá o valor de R$101.67\n"
     ]
    }
   ],
   "source": [
    "productPrice = float(input(\"Informe o preço do produto: \"))\n",
    "installmentsNumber = int(input(\"Informe o número de parcelas que deseja pagar (sem juros): \"))\n",
    "\n",
    "print(\"==================================================================\")\n",
    "print(\"Cada parcela terá o valor de R$\" + str(round(productPrice / installmentsNumber, 2)))"
   ]
  },
  {
   "cell_type": "markdown",
   "metadata": {},
   "source": [
    "---\n",
    "\n",
    "### Exercício <span class=\"exec\"></span>: autonomia\n",
    "\n",
    "Faça um programa que pergunta ao usuário pela capacidade do tanque de gasolina do carro (em litros), depois pelo consumo de gasolina (em km/l). Depois, seu programa deve mostrar a autonomia do carro com o tanque cheio, ou seja, quantos kilômetros ele consegue viajar com o tanque cheio até parar."
   ]
  },
  {
   "cell_type": "code",
   "execution_count": 14,
   "metadata": {},
   "outputs": [
    {
     "name": "stdout",
     "output_type": "stream",
     "text": [
      "Informe a capacidade do tanque de gasolina (em litros): 12\n",
      "Informe o consumo de gasolina do veículo (em km/l): 2\n",
      "==================================================================\n",
      "O carro consegue viajar 24.0km com o tanque cheio.\n"
     ]
    }
   ],
   "source": [
    "tankCapacity = float(input(\"Informe a capacidade do tanque de gasolina (em litros): \"))\n",
    "gasolineConsumption = float(input(\"Informe o consumo de gasolina do veículo (em km/l): \"))\n",
    "\n",
    "print(\"==================================================================\")\n",
    "print(\"O carro consegue viajar \" + str(round(tankCapacity * gasolineConsumption, 1)) + \"km com o tanque cheio.\")"
   ]
  },
  {
   "cell_type": "markdown",
   "metadata": {},
   "source": [
    "---\n",
    "\n",
    "### Exercício <span class=\"exec\"></span>: área do triângulo\n",
    "\n",
    "Faça um programa para calcular a área de um triângulo. Seu programa deve pedir para o usuário digitar o comprimento da base e depois a altura, e seu programa diz qual a área de um triângulo com tais parâmetros."
   ]
  },
  {
   "cell_type": "code",
   "execution_count": 13,
   "metadata": {},
   "outputs": [
    {
     "name": "stdout",
     "output_type": "stream",
     "text": [
      "Informe o comprimento da base do triângulo (em cm): 12\n",
      "Informe a altura do triângulo (em cm): 3\n",
      "==================================================================\n",
      "O triângulo tem uma área de 18.0 cm.\n"
     ]
    }
   ],
   "source": [
    "length = float(input(\"Informe o comprimento da base do triângulo (em cm): \"))\n",
    "height = float(input(\"Informe a altura do triângulo (em cm): \"))\n",
    "\n",
    "print(\"==================================================================\")\n",
    "print(\"O triângulo tem uma área de \" + str(round(((length * height) / 2), 2)) + \" cm.\")"
   ]
  },
  {
   "cell_type": "markdown",
   "metadata": {},
   "source": [
    "---\n",
    "\n",
    "### Exercício <span class=\"exec\"></span>: média ponderada\n",
    "\n",
    "Faça um programa que \n",
    "\n",
    "* pergunta a um aluno quanto ele tirou na P1, depois quanto ele tirou na P2; e\n",
    "* mostra na saída a média ponderada, considerando que o peso da P1 é 2.5 e o peso da P2 é 4.0 (portanto a soma dos pesos é 6.5)."
   ]
  },
  {
   "cell_type": "code",
   "execution_count": 12,
   "metadata": {
    "scrolled": true
   },
   "outputs": [
    {
     "name": "stdout",
     "output_type": "stream",
     "text": [
      "Informe a nota da P1: 5\n",
      "Informe a nota da P2: 7\n",
      "==================================================================\n",
      "A média ponderada do aluno é 6.23\n"
     ]
    }
   ],
   "source": [
    "p1 = float(input(\"Informe a nota da P1: \"))\n",
    "p1Weight = 2.5\n",
    "p2 = float(input(\"Informe a nota da P2: \"))\n",
    "p2Weight = 4.0\n",
    "average = (p1 * p1Weight + p2 * p2Weight) / (p1Weight + p2Weight)\n",
    "\n",
    "print(\"==================================================================\")\n",
    "print(\"A média ponderada do aluno é\", round(average, 2))"
   ]
  },
  {
   "cell_type": "markdown",
   "metadata": {},
   "source": [
    "---\n",
    "\n",
    "### Exercício <span class=\"exec\"></span>: volume do cilíndro\n",
    "\n",
    "Peça ao usuário para digitar dois números: o raio $r$ da base do cilindro e sua altura $h$, um por vez. Depois mostre na tela o volume do cilindro, que pode ser calculado com a fórmula\n",
    "\n",
    "$$ V = \\pi r^2 h. $$\n",
    "\n",
    "Use o valor 3.1415926 para aproximar $\\pi$."
   ]
  },
  {
   "cell_type": "code",
   "execution_count": 11,
   "metadata": {},
   "outputs": [
    {
     "name": "stdout",
     "output_type": "stream",
     "text": [
      "Informe o raio da base do cilindro (em cm): 4\n",
      "Informe a altura do cilindro (em cm): 4\n",
      "==================================================================\n",
      "O volume do cilindro é 201.06 cm cúbicos.\n"
     ]
    }
   ],
   "source": [
    "radius = float(input(\"Informe o raio da base do cilindro (em cm): \"))\n",
    "height = float(input(\"Informe a altura do cilindro (em cm): \"))\n",
    "pi = 3.1415926\n",
    "\n",
    "volume = pi * (radius**2) * height\n",
    "print(\"==================================================================\")\n",
    "print(\"O volume do cilindro é\", round(volume, 2), \"cm cúbicos.\")"
   ]
  },
  {
   "cell_type": "markdown",
   "metadata": {},
   "source": [
    "---\n",
    "\n",
    "### Exercício <span class=\"exec\"></span>: volume da esfera\n",
    "\n",
    "O cálculo do volume de uma esfera de raio $R$ é feito pela fórmula\n",
    "\n",
    "$$ V = \\frac{4 \\pi R^3}{3}. $$\n",
    "\n",
    "Faça um programa que pergunta ao usuário por um número positivo $R$ e que calcula e depois mostra na tela o volume de uma esfera de raio $R$.\n",
    "\n",
    "Use o valor 3.1415926 para aproximar $\\pi$."
   ]
  },
  {
   "cell_type": "code",
   "execution_count": 10,
   "metadata": {},
   "outputs": [
    {
     "name": "stdout",
     "output_type": "stream",
     "text": [
      "Informe o raio da esfera (em cm): 50\n",
      "==================================================================\n",
      "O volume de uma esfera de raio 50.0 cm é 523598.77 cm cúbicos.\n"
     ]
    }
   ],
   "source": [
    "R = float(input(\"Informe o raio da esfera (em cm): \"))\n",
    "V = (4 * pi * R**3) / 3\n",
    "print(\"==================================================================\")\n",
    "print(\"O volume de uma esfera de raio \" + str(R) + \" cm é \" + str(round(V, 2)) + \" cm cúbicos.\")"
   ]
  },
  {
   "cell_type": "markdown",
   "metadata": {},
   "source": [
    "---\n",
    "\n",
    "### Exercício <span class=\"exec\"></span>: poupança\n",
    "\n",
    "Um investidor depositou uma quantia na poupança, que rende $p$ porcento ao mês. Ajude o investidor a calcular quanto ele terá depois de alguns meses. \n",
    "\n",
    "Seu programa deve:\n",
    "\n",
    "* perguntar pela quantia $d$ de dinheiro depositada na poupança;\n",
    "* perguntar pela taxa $p$ de rendimento da poupança;\n",
    "* perguntar pelo numero $t$ de meses que o dinheiro ficará rendendo;\n",
    "* mostrar o montante de dinheiro na poupança após os $t$ meses.\n",
    "\n",
    "Lembre-se que a quantia $D$ após $t$ meses pode ser calculada por\n",
    "\n",
    "$$ D = d\\Big(1 + \\frac{p}{100}\\Big)^t. $$"
   ]
  },
  {
   "cell_type": "code",
   "execution_count": 7,
   "metadata": {},
   "outputs": [
    {
     "name": "stdout",
     "output_type": "stream",
     "text": [
      "Quanto foi depositado na poupança? 100\n",
      "Qual a taxa de rendimento da poupança? 5.15\n",
      "Quanto tempo em meses deixará o dinheiro rendendo? 12\n",
      "==================================================================\n",
      "Após os 12 meses rendendo na poupança, o montante será de R$182.69.\n"
     ]
    }
   ],
   "source": [
    "d = float(input(\"Quanto foi depositado na poupança? \"))\n",
    "p = float(input(\"Qual a taxa de rendimento da poupança? \"))\n",
    "t = int(input(\"Quanto tempo em meses deixará o dinheiro rendendo? \"))\n",
    "\n",
    "D = d * (1 + p / 100) ** t\n",
    "\n",
    "print(\"==================================================================\")\n",
    "print(\"Após os \" + str(t) + \" meses rendendo na poupança, o montante será de R$\" + str(round(D, 2)) + \".\")"
   ]
  },
  {
   "cell_type": "markdown",
   "metadata": {},
   "source": [
    "---\n",
    "\n",
    "### Exercícios <span class=\"exec\"></span>: horas, minutos e segundos\n",
    "\n",
    "O cliente de uma empresa gostaria de um programa que convertesse uma quantidade $S$ de segundos em horas, minutos e segundos. Faça esse programa.\n",
    "\n",
    "**Dica:** use os operadores de divisão inteira `//` e resto `%`."
   ]
  },
  {
   "cell_type": "code",
   "execution_count": 5,
   "metadata": {
    "scrolled": true
   },
   "outputs": [
    {
     "name": "stdout",
     "output_type": "stream",
     "text": [
      "Informe os segundos que serão convertidos: 3662\n",
      "==================================================================\n",
      "1 hora(s), 1 minuto(s) e 2 segundo(s).\n"
     ]
    }
   ],
   "source": [
    "S = int(input(\"Informe os segundos que serão convertidos: \"))\n",
    "hours = (S // 60) // 60\n",
    "minutes = (S // 60) % 60\n",
    "seconds = S % 60\n",
    "print(\"==================================================================\")\n",
    "print(str(hours) + \" hora(s), \" + str(minutes) + \" minuto(s) e \" + str(seconds) + \" segundo(s).\")"
   ]
  },
  {
   "cell_type": "markdown",
   "metadata": {},
   "source": [
    "---\n",
    "\n",
    "### Exercício <span class=\"exec\"></span>: troco\n",
    "\n",
    "Você é comerciante e identificou um problema muito comum: uma pessoa compra um produto de sua loja mas, na hora de passar o cartão dela na maquininha, o caixa cobra $C \\geq 0$ centavos a mais do que deveria e agora precisa dar o troco. Sua loja só trabalha com moedas ou cartão, então o cliente tem direito a receber _em moedas_ a quantidade $C$ de centavos que excedeu o preço da compra. Você quer dar ao cliente o número mínimo de moedas para trocar o valor $C$.\n",
    "\n",
    "Por exemplo, se o caixa cobrou 573 centavos a mais no cartão, o cliente tem direito a receber\n",
    "\n",
    "    5 moeda(s) de  1 real\n",
    "    1 moeda(s) de 50 centavos\n",
    "    0 moeda(s) de 25 centavos\n",
    "    2 moeda(s) de 10 centavos\n",
    "    0 moeda(s) de  5 centavos\n",
    "    3 moeda(s) de  1 centavo\n",
    "\n",
    "Faça um programa para ajudá-lo nesta tarefa:\n",
    "\n",
    "* pergunte ao usuário pela quantidade `C` de centavos que deve ser trocada;\n",
    "* mostre ao usuário quais moedas de cada denominação devem ser devolvidas ao cliente em um troco mínimo.\n",
    "\n",
    "**Dica:** use os operadores de divisão inteira `//` e resto `%`."
   ]
  },
  {
   "cell_type": "code",
   "execution_count": 4,
   "metadata": {
    "scrolled": true
   },
   "outputs": [
    {
     "name": "stdout",
     "output_type": "stream",
     "text": [
      "Informe quantos centavos devem ser trocados: 573\n",
      "==================================================================\n",
      "5 moeda(s) de 1 real\n",
      "1 moeda(s) de 50 centavos\n",
      "0 moeda(s) de 25 centavos\n",
      "2 moeda(s) de 10 centavos\n",
      "0 moeda(s) de 5 centavos\n",
      "3 moeda(s) de 1 centavo\n"
     ]
    }
   ],
   "source": [
    "C = int(input(\"Informe quantos centavos devem ser trocados: \"))\n",
    "print(\"==================================================================\")\n",
    "print(C // 100, \"moeda(s) de 1 real\")\n",
    "print(C % 100 // 50, \"moeda(s) de 50 centavos\")\n",
    "print(C % 100 % 50 // 25, \"moeda(s) de 25 centavos\")\n",
    "print(C % 100 % 50 % 25 // 10, \"moeda(s) de 10 centavos\")\n",
    "print(C % 100 % 50 % 25 % 10 // 5, \"moeda(s) de 5 centavos\")\n",
    "print(C % 100 % 50 % 25 % 10 % 5, \"moeda(s) de 1 centavo\")"
   ]
  },
  {
   "cell_type": "markdown",
   "metadata": {},
   "source": [
    "### Exercícios (URI Judge)"
   ]
  },
  {
   "cell_type": "markdown",
   "metadata": {},
   "source": [
    "#### Exercício 01: Hello World!"
   ]
  },
  {
   "cell_type": "code",
   "execution_count": 3,
   "metadata": {},
   "outputs": [
    {
     "name": "stdout",
     "output_type": "stream",
     "text": [
      "Hello World!\n"
     ]
    }
   ],
   "source": [
    "print(\"Hello World!\")"
   ]
  },
  {
   "cell_type": "markdown",
   "metadata": {},
   "source": [
    "#### Exercício 02: Extremely Basic"
   ]
  },
  {
   "cell_type": "code",
   "execution_count": 2,
   "metadata": {
    "scrolled": true
   },
   "outputs": [
    {
     "name": "stdout",
     "output_type": "stream",
     "text": [
      "10\n",
      "9\n",
      "X = 19\n"
     ]
    }
   ],
   "source": [
    "A = int(input())\n",
    "B = int(input())\n",
    "X = A + B\n",
    "print(\"X =\", X)"
   ]
  },
  {
   "cell_type": "markdown",
   "metadata": {},
   "source": [
    "#### Exercício 03: Area of a Circle"
   ]
  },
  {
   "cell_type": "code",
   "execution_count": 6,
   "metadata": {},
   "outputs": [
    {
     "name": "stdout",
     "output_type": "stream",
     "text": [
      "150.00\n",
      "A=70685.7750\n"
     ]
    }
   ],
   "source": [
    "R = float(input())\n",
    "A = 3.14159 * (R ** 2)\n",
    "print(\"A=\" + format(A,\".4f\"))"
   ]
  },
  {
   "cell_type": "markdown",
   "metadata": {},
   "source": [
    "#### Exercício 04: Simple Sum"
   ]
  },
  {
   "cell_type": "code",
   "execution_count": 7,
   "metadata": {},
   "outputs": [
    {
     "name": "stdout",
     "output_type": "stream",
     "text": [
      "3\n",
      "2\n",
      "SOMA = 5\n"
     ]
    }
   ],
   "source": [
    "A = int(input())\n",
    "B = int(input())\n",
    "SOMA = A + B\n",
    "print(\"SOMA =\", SOMA)"
   ]
  },
  {
   "cell_type": "markdown",
   "metadata": {},
   "source": [
    "#### Exercício 05: Simple Product"
   ]
  },
  {
   "cell_type": "code",
   "execution_count": 8,
   "metadata": {
    "scrolled": true
   },
   "outputs": [
    {
     "name": "stdout",
     "output_type": "stream",
     "text": [
      "3\n",
      "4\n",
      "PROD = 12\n"
     ]
    }
   ],
   "source": [
    "number1 = int(input())\n",
    "number2 = int(input())\n",
    "PROD = number1 * number2\n",
    "print(\"PROD =\", PROD)"
   ]
  },
  {
   "cell_type": "markdown",
   "metadata": {},
   "source": [
    "#### Exercício 06: Average 1"
   ]
  },
  {
   "cell_type": "code",
   "execution_count": 5,
   "metadata": {},
   "outputs": [
    {
     "name": "stdout",
     "output_type": "stream",
     "text": [
      "5.0\n",
      "7.1\n",
      "MEDIA = 6.43182\n"
     ]
    }
   ],
   "source": [
    "A = float(input())\n",
    "B = float(input())\n",
    "MEDIA = (A * 3.5 + B * 7.5) / (3.5 + 7.5)\n",
    "print(\"MEDIA = \" + format(MEDIA, \".5f\"))"
   ]
  },
  {
   "cell_type": "markdown",
   "metadata": {},
   "source": [
    "#### Exercício 07: Difference"
   ]
  },
  {
   "cell_type": "code",
   "execution_count": 7,
   "metadata": {
    "scrolled": true
   },
   "outputs": [
    {
     "name": "stdout",
     "output_type": "stream",
     "text": [
      "5\n",
      "6\n",
      "7\n",
      "8\n",
      "DIFERENCA = -26\n"
     ]
    }
   ],
   "source": [
    "A = int(input())\n",
    "B = int(input())\n",
    "C = int(input())\n",
    "D = int(input())\n",
    "DIFERENCA = (A * B - C * D)\n",
    "print(\"DIFERENCA =\", DIFERENCA)"
   ]
  },
  {
   "cell_type": "markdown",
   "metadata": {},
   "source": [
    "#### Exercício 08: Simple Calculate"
   ]
  },
  {
   "cell_type": "code",
   "execution_count": 19,
   "metadata": {},
   "outputs": [
    {
     "name": "stdout",
     "output_type": "stream",
     "text": [
      "1 1 15.10\n",
      "2 1 15.10\n",
      "VALOR A PAGAR: R$ 30.20\n"
     ]
    }
   ],
   "source": [
    "product1 = input()\n",
    "product2 = input()\n",
    "[code1, units1_str, price1_str] = product1.split(' ')\n",
    "[code2, units2_str, price2_str] = product2.split(' ')\n",
    "\n",
    "units1_num = int(units1_str)\n",
    "units2_num = int(units2_str)\n",
    "price1_num = float(price1_str)\n",
    "price2_num = float(price2_str)\n",
    "\n",
    "amount = (units1_num * price1_num) + (units2_num * price2_num)\n",
    "print(\"VALOR A PAGAR: R$ \" + format(amount, \".2f\"))"
   ]
  },
  {
   "cell_type": "markdown",
   "metadata": {},
   "source": [
    "#### Exercício 09: Distance Between Two Points"
   ]
  },
  {
   "cell_type": "code",
   "execution_count": 22,
   "metadata": {},
   "outputs": [
    {
     "name": "stdout",
     "output_type": "stream",
     "text": [
      "2.5 -0.4\n",
      "-12.2 7.0\n",
      "16.4575\n"
     ]
    }
   ],
   "source": [
    "p1 = input()\n",
    "p2 = input()\n",
    "\n",
    "[x1_str, y1_str] = p1.split(' ')\n",
    "[x2_str, y2_str] = p2.split(' ')\n",
    "\n",
    "x1 = float(x1_str)\n",
    "y1 = float(y1_str)\n",
    "x2 = float(x2_str)\n",
    "y2 = float(y2_str)\n",
    "\n",
    "distance = ((x2 - x1) ** 2 + (y2 - y1) ** 2) ** (1/2)\n",
    "\n",
    "print(format(distance, \".4f\"))"
   ]
  },
  {
   "cell_type": "markdown",
   "metadata": {},
   "source": [
    "#### Exercício 10: Fuel Spent"
   ]
  },
  {
   "cell_type": "code",
   "execution_count": 13,
   "metadata": {},
   "outputs": [
    {
     "name": "stdout",
     "output_type": "stream",
     "text": [
      "22\n",
      "67\n",
      "122.833\n"
     ]
    }
   ],
   "source": [
    "tankCapacity = 12\n",
    "spentTime = int(input())\n",
    "averageSpeed = int(input())\n",
    "\n",
    "distance = averageSpeed * spentTime\n",
    "liters = distance / tankCapacity\n",
    "\n",
    "print(format(liters, \".3f\"))"
   ]
  },
  {
   "cell_type": "markdown",
   "metadata": {},
   "source": [
    "<span style=\"color: red;\">Ignore as próximas células! Elas só estão presentes para personalizar a formatação deste _notebook_. </span>"
   ]
  },
  {
   "cell_type": "code",
   "execution_count": null,
   "metadata": {
    "init_cell": true
   },
   "outputs": [],
   "source": [
    "%%html\n",
    "<style>\n",
    "\n",
    ".rendered_html h1 {\n",
    "    background-color: #555;\n",
    "    color: white;\n",
    "    padding: .5em;\n",
    "    // border-bottom: 2px solid #000;\n",
    "    // padding-bottom: .6em;\n",
    "    margin-bottom: 1em;\n",
    "}\n",
    "\n",
    ".rendered_html h2 {\n",
    "    border-bottom: 1px solid #333;\n",
    "    padding-bottom: .6em;\n",
    "}\n",
    "                                      \n",
    ".rendered_html h3 {\n",
    "    color: #034f84;\n",
    "}\n",
    "\n",
    ".rendered_html code  {\n",
    "    padding: 2px 4px;\n",
    "    font-size: 90%;\n",
    "    color: #c7254e;\n",
    "    background-color: #f9f2f4;\n",
    "    border-radius: 4px;\n",
    "}\n",
    "\n",
    ".rendered_html pre code {\n",
    "    padding: 0px;\n",
    "    font-size: 90%;\n",
    "    color: #c7254e;\n",
    "    background-color: rgba(0, 0, 0, 0);\n",
    "}\n",
    "\n",
    "kbd {\n",
    "    border-radius: 3px;  \n",
    "    padding: 2px, 3px;\n",
    "}\n",
    "\n",
    "body {\n",
    "    counter-reset: h1counter excounter;\n",
    "}\n",
    "h1:before {\n",
    "    content: counter(h1counter) \".\\0000a0\\0000a0\";\n",
    "    counter-increment: h1counter;\n",
    "}\n",
    "span.exec:before {\n",
    "    content: counter(excounter);\n",
    "    counter-increment: excounter;\n",
    "}\n",
    "\n",
    "</style>                                      "
   ]
  }
 ],
 "metadata": {
  "kernelspec": {
   "display_name": "Python 3",
   "language": "python",
   "name": "python3"
  },
  "language_info": {
   "codemirror_mode": {
    "name": "ipython",
    "version": 3
   },
   "file_extension": ".py",
   "mimetype": "text/x-python",
   "name": "python",
   "nbconvert_exporter": "python",
   "pygments_lexer": "ipython3",
   "version": "3.8.8"
  }
 },
 "nbformat": 4,
 "nbformat_minor": 1
}
